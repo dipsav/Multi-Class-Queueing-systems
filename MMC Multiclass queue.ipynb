{
 "cells": [
  {
   "cell_type": "markdown",
   "metadata": {},
   "source": [
    "# Main ideas\n",
    "\n",
    "Let us denote as $P(\\bar{w}, \\bar{s})$ the probability to have $\\bar{w}$ items waiting and $\\bar{s}$ the items in service.\n",
    "\n",
    "The equilibrium equations are as follows:\n",
    "\n",
    "For $n>k$\n",
    "$$\\left (\\sum_{i=1}^N \\lambda_i +  \\sum_{i=1}^N s_i\\mu_i \\right) P(\\bar{w}, \\bar{s}) = \\sum_{i=1}^N \\lambda_i P(\\bar{w}-e_i, \\bar{s}) + \\sum_{i=1}^N \\sum_{j=1}^N \\frac{w_i+1}{|\\bar{w}|+1} (s_j + 1 - e_{ij})\\mu_j P(\\bar{w}+e_i, \\bar{s}-e_i+e_j)$$\n",
    "\n",
    "For $n=k$\n",
    "$$\\left (\\sum_{i=1}^N \\lambda_i +  \\sum_{i=1}^N s_i\\mu_i \\right) P(\\bar{0}, \\bar{s}) = \\sum_{i=1}^N \\lambda_i P(\\bar{0}, \\bar{s}-e_i) + \\sum_{i=1}^N \\sum_{j=1}^N (s_j + 1 - e_{ij})\\mu_j P(e_i, \\bar{s}-e_i+e_j)$$\n",
    "\n",
    "For $0<n<k$\n",
    "$$\\left (\\sum_{i=1}^N \\lambda_i +  \\sum_{i=1}^N s_i\\mu_i \\right) P(\\bar{0}, \\bar{s}) = \\sum_{i=1}^N \\lambda_i P(\\bar{0}, \\bar{s}-e_i) + \\sum_{j=1}^N (s_j + 1)\\mu_j P(0, \\bar{s}+e_j)$$\n",
    "\n",
    "For $0=n$\n",
    "$$\\sum_{i=1}^N \\lambda_i P(\\bar{0}, \\bar{0}) = \\sum_{j=1}^N \\mu_j P(0, e_j)$$"
   ]
  },
  {
   "cell_type": "markdown",
   "metadata": {},
   "source": [
    "The steady state probabilities P(\\bar{w}, \\bar{s}) can be expressed as:\n",
    "$$P(\\bar{w}, \\bar{s}) =  |\\bar{w}|!  \\prod_{i=1}^N \\frac{\\alpha_i^{w_i}}{w_i!} P_n(\\bar{s})$$\n",
    "\n",
    "Denote further the vector that contains all  components $P_n(\\bar{s})$ as $\\mathbf{P}_n$ \n",
    "\n",
    "\n",
    "The equilibrium equations can be rewritten as:\n",
    "\n",
    "For $n>k$\n",
    "$$\\mathbf{A}_0 \\mathbf{P}_n = \\mathbf{\\Lambda} \\mathbf{P}_{n-1} + \\mathbf{A}_1 \\mathbf{P}_{n+1}$$\n",
    "where $\\mathbf{A}_0$ is a diagonal matrix with $\\sum_{i=1}^N \\lambda_i +  \\sum_{i=1}^N s_i\\mu_i$ on each diagonal cell corresponding to $\\bar{s}$. <br>In $\\mathbf{A}_1$ each element corrsponding to $(\\bar{s}, \\bar{s}-e_i+e_j)$ will be:\n",
    "$\\sum_{i=1}^N \\sum_{j=1}^N \\alpha_i (s_j + 1 - e_{ij})\\mu_j$ \n",
    "\n",
    "For $n=k$\n",
    "$$\\mathbf{A}_0 \\mathbf{P}_{n} = \\sum_{i=1}^N \\lambda_i P(\\bar{0}, \\bar{s}-e_i) + \\mathbf{A}_1 \\mathbf{P}_{n+1}$$\n",
    "\n",
    "For $0<n<k$\n",
    "$$\\left (\\sum_{i=1}^N \\lambda_i +  \\sum_{i=1}^N s_i\\mu_i \\right) P(\\bar{0}, \\bar{s}) = \\sum_{i=1}^N \\lambda_i P(\\bar{0}, \\bar{s}-e_i) + \\sum_{j=1}^N (s_j + 1)\\mu_j P(0, \\bar{s}+e_j)$$\n",
    "\n",
    "For $0=n$\n",
    "$$\\sum_{i=1}^N \\lambda_i P(\\bar{0}, \\bar{0}) = \\sum_{j=1}^N \\mu_j P(0, e_j)$$"
   ]
  },
  {
   "cell_type": "code",
   "execution_count": 2,
   "metadata": {
    "collapsed": true
   },
   "outputs": [],
   "source": [
    "# initialize libraries\n",
    "import numpy as np\n",
    "import itertools"
   ]
  },
  {
   "cell_type": "code",
   "execution_count": 3,
   "metadata": {
    "collapsed": false
   },
   "outputs": [],
   "source": [
    "# Define the generator that will generate all possible assignments of classes to servers, without permutations\n",
    "def generateVectorsFixedSum(m,n):\n",
    "    # generator for all combinations of $w$ for given number of servers and classes\n",
    "    if m==1:\n",
    "        yield [n]\n",
    "    else:\n",
    "        for i in range(n+1):\n",
    "            for vect in generateVectorsFixedSum(m-1,n-i):\n",
    "                yield [i]+vect"
   ]
  },
  {
   "cell_type": "code",
   "execution_count": 6,
   "metadata": {
    "collapsed": false
   },
   "outputs": [
    {
     "name": "stdout",
     "output_type": "stream",
     "text": [
      "[0, 0, 2]\n",
      "[0, 1, 1]\n",
      "[0, 2, 0]\n",
      "[1, 0, 1]\n",
      "[1, 1, 0]\n",
      "[2, 0, 0]\n"
     ]
    }
   ],
   "source": [
    "# Example\n",
    "mClasses = 3\n",
    "nServers = 2\n",
    "\n",
    "# to produce the combinations\n",
    "# the generators should be called in a loop\n",
    "# the loop will stop when all possible combinations are generated\n",
    "# the vectors contain numbers of customers of each class in the system\n",
    "for vec in generateVectorsFixedSum(mClasses, nServers):\n",
    "    print vec\n"
   ]
  },
  {
   "cell_type": "code",
   "execution_count": 38,
   "metadata": {
    "collapsed": false
   },
   "outputs": [
    {
     "name": "stdout",
     "output_type": "stream",
     "text": [
      "[ 1.]\n",
      "[ 1.]\n"
     ]
    }
   ],
   "source": [
    "mClasses = 1\n",
    "lamda = np.linspace(1,2,mClasses)\n",
    "mu = np.ones(mClasses) #np.linspace(2,1,mClasses)\n",
    "nServers = 2\n",
    "print lamda\n",
    "print mu"
   ]
  },
  {
   "cell_type": "code",
   "execution_count": 39,
   "metadata": {
    "collapsed": true
   },
   "outputs": [],
   "source": [
    "lambdaTot = sum(lamda)\n",
    "alpha = lamda/lambdaTot\n",
    "\n",
    "idx_map = dict([ (tuple(vect), i) for i, vect in zip(itertools.count(), generateVectorsFixedSum(mClasses, nServers)) ])\n",
    "i_map   = dict([(idx_map[idx], list(idx)) for idx in idx_map ])\n",
    "q_max = len(idx_map)\n"
   ]
  },
  {
   "cell_type": "code",
   "execution_count": 37,
   "metadata": {
    "collapsed": true
   },
   "outputs": [],
   "source": [
    "def getIndexDict(idx, idx_map):\n",
    "    try:\n",
    "        return idx_map[tuple(idx)]\n",
    "    except KeyError:\n",
    "        return -1"
   ]
  },
  {
   "cell_type": "code",
   "execution_count": 40,
   "metadata": {
    "collapsed": false
   },
   "outputs": [],
   "source": [
    "A0 = np.zeros((q_max,q_max))  #corresponds to terms with i items in queue\n",
    "A1 = np.zeros((q_max,q_max))  #corresponds to terms with i+1 items in queue\n",
    "for i, idx in i_map.items():\n",
    "    #diagonal term\n",
    "    A0[i,i] += 1 + np.sum(idx*mu)/lambdaTot\n",
    "\n",
    "    #term corresponding to end of service for item j1, start of service for j2\n",
    "    for j1 in xrange(mClasses):\n",
    "        for j2 in xrange(mClasses):\n",
    "            idx[j1] += 1; idx[j2] -= 1\n",
    "            i1 = getIndexDict(idx,idx_map)\n",
    "            if i1>=0: A1[i,i1] += alpha[j2]/lambdaTot*idx[j1]*mu[j1]\n",
    "            idx[j1] -= 1; idx[j2] += 1\n"
   ]
  },
  {
   "cell_type": "code",
   "execution_count": 41,
   "metadata": {
    "collapsed": false
   },
   "outputs": [],
   "source": [
    "eps = 0.000000001\n",
    "I = np.eye(q_max)\n",
    "Z_prev = np.zeros((q_max, q_max)) #I\n",
    "delta=1\n",
    "A0_inv = np.linalg.inv(A0)\n",
    "while delta>eps:\n",
    "    Z = np.dot(A0_inv, I + np.dot(A1, np.dot(Z_prev, Z_prev)))  #invA0*(I+A1*H*H)\n",
    "    delta = np.sum(np.abs(Z-Z_prev))\n",
    "    Z_prev=Z\n"
   ]
  },
  {
   "cell_type": "code",
   "execution_count": 42,
   "metadata": {
    "collapsed": true
   },
   "outputs": [],
   "source": [
    "Q = []\n",
    "Q.insert(0, Z[:])"
   ]
  },
  {
   "cell_type": "code",
   "execution_count": 43,
   "metadata": {
    "collapsed": false
   },
   "outputs": [
    {
     "name": "stdout",
     "output_type": "stream",
     "text": [
      "[array([[ 1.]]), array([[ 0.5]]), array([[ 0.5]])]\n"
     ]
    }
   ],
   "source": [
    "idx_map_nplus = dict([ (tuple(vect), i) for i, vect in zip(itertools.count(), generateVectorsFixedSum(mClasses, nServers)) ])\n",
    "i_map_nplus   = dict([(idx_map_nplus[idx], list(idx)) for idx in idx_map_nplus ])\n",
    "q_max_nplus   = len(idx_map_nplus)\n",
    "\n",
    "idx_map_n = idx_map_nplus\n",
    "i_map_n   = i_map_nplus\n",
    "q_max_n   = q_max_nplus\n",
    "\n",
    "A1_n = A1[:]\n",
    "\n",
    "for n in range(nServers,0,-1):\n",
    "    idx_map_nminus = dict([ (tuple(vect), i) for i, vect in zip(itertools.count(), generateVectorsFixedSum(mClasses, n-1)) ])\n",
    "    i_map_nminus   = dict([(idx_map_nminus[idx], list(idx)) for idx in idx_map_nminus ])\n",
    "    q_max_nminus   = len(idx_map_nminus)\n",
    "\n",
    "    L_n = np.zeros((q_max_n,q_max_nminus))  #corresponds to terms with i items in queue\n",
    "    A0_n = np.zeros((q_max_n,q_max_n))  #corresponds to terms with i items in queue\n",
    "    for i, idx in i_map_n.items():\n",
    "\n",
    "        #diagonal term\n",
    "        A0_n[i,i] += 1 + np.sum(idx*mu)/lambdaTot\n",
    "\n",
    "        #term corresponding to arrival of item item j1\n",
    "        for j2 in xrange(mClasses):\n",
    "            idx[j2] -= 1\n",
    "            i2 = getIndexDict(idx,idx_map_nminus)\n",
    "            if i2>=0: L_n[i,i2] += alpha[j2]\n",
    "            idx[j2] += 1\n",
    "\n",
    "    # Q_n = (A_0 - A_1*Q_{n+1})^{-1}*L_n\n",
    "    Q.insert(0, np.dot(np.linalg.inv(A0_n-np.dot(A1_n, Q[0])), L_n))\n",
    "\n",
    "    idx_map_nplus = idx_map_n\n",
    "    i_map_nplus   = i_map_n\n",
    "    q_max_nplus   = q_max_n\n",
    "\n",
    "    idx_map_n = idx_map_nminus\n",
    "    i_map_n   = i_map_nminus\n",
    "    q_max_n   = q_max_nminus\n",
    "\n",
    "    A1_n = np.zeros((q_max_n,q_max_nplus))  #corresponds to terms with i+1 items in queue\n",
    "    for i, idx in i_map_n.items():\n",
    "        #term corresponding to end of service for item j1\n",
    "        for j1 in xrange(mClasses):\n",
    "            idx[j1] += 1\n",
    "            i1 = getIndexDict(idx,idx_map_nplus)\n",
    "            if i1>=0: A1_n[i,i1] += idx[j1]*mu[j1]/lambdaTot\n",
    "            idx[j1] -= 1\n",
    "print Q"
   ]
  },
  {
   "cell_type": "code",
   "execution_count": 45,
   "metadata": {
    "collapsed": false
   },
   "outputs": [
    {
     "name": "stdout",
     "output_type": "stream",
     "text": [
      "3.49999998849 [[1.0], array([ 0.28571429]), array([ 0.14285714])]\n"
     ]
    }
   ],
   "source": [
    "P = []\n",
    "P.append([1.0])\n",
    "\n",
    "sm = 1.0\n",
    "for n in xrange(nServers):\n",
    "    P.append(np.dot(Q[n],P[-1]))\n",
    "    sm += sum(P[-1])\n",
    "\n",
    "sm += sum(np.dot(np.linalg.inv(np.eye(len(P[-1])) - Z), P[-1]))\n",
    "\n",
    "for p in P: p /= sm  #normalization\n",
    "print sm, P"
   ]
  },
  {
   "cell_type": "code",
   "execution_count": 31,
   "metadata": {
    "collapsed": true
   },
   "outputs": [],
   "source": [
    "inv1minZ = np.linalg.inv(np.eye(len(P[-1])) - Z)\n",
    "EQTotal = sum(np.dot(np.dot(np.dot(inv1minZ,inv1minZ), Z),P[-1]))\n",
    "EQQmin1Total = 2*sum(np.dot(np.dot(np.dot(np.dot(np.dot(inv1minZ,inv1minZ),inv1minZ), Z), Z), P[-1]))\n",
    "EQ2Total = EQQmin1Total + EQTotal\n",
    "\n",
    "EQ = alpha*EQTotal\n",
    "EQQmin1 = alpha*alpha*EQQmin1Total\n",
    "EQ2 = EQQmin1 + EQ"
   ]
  },
  {
   "cell_type": "code",
   "execution_count": 32,
   "metadata": {
    "collapsed": false
   },
   "outputs": [],
   "source": [
    "VarQTotal = EQ2Total - EQTotal**2\n",
    "VarQ = EQ2 - EQ**2"
   ]
  },
  {
   "cell_type": "code",
   "execution_count": 108,
   "metadata": {
    "collapsed": false
   },
   "outputs": [
    {
     "data": {
      "text/plain": [
       "array([[ 4.]])"
      ]
     },
     "execution_count": 108,
     "metadata": {},
     "output_type": "execute_result"
    }
   ],
   "source": [
    "np.dot(A1, np.dot(Z_prev, Z_prev))"
   ]
  },
  {
   "cell_type": "code",
   "execution_count": 109,
   "metadata": {
    "collapsed": false
   },
   "outputs": [
    {
     "data": {
      "text/plain": [
       "array([[ 1.]])"
      ]
     },
     "execution_count": 109,
     "metadata": {},
     "output_type": "execute_result"
    }
   ],
   "source": [
    "np.dot(A0_inv, I + np.dot(A1, np.dot(Z_prev, Z_prev)))"
   ]
  },
  {
   "cell_type": "code",
   "execution_count": 86,
   "metadata": {
    "collapsed": false
   },
   "outputs": [
    {
     "data": {
      "text/plain": [
       "array([[1, 0],\n",
       "       [0, 1]])"
      ]
     },
     "execution_count": 86,
     "metadata": {},
     "output_type": "execute_result"
    }
   ],
   "source": [
    "I"
   ]
  },
  {
   "cell_type": "code",
   "execution_count": 87,
   "metadata": {
    "collapsed": false
   },
   "outputs": [
    {
     "data": {
      "text/plain": [
       "1"
      ]
     },
     "execution_count": 87,
     "metadata": {},
     "output_type": "execute_result"
    }
   ],
   "source": [
    "q_max"
   ]
  },
  {
   "cell_type": "code",
   "execution_count": 126,
   "metadata": {
    "collapsed": false
   },
   "outputs": [
    {
     "data": {
      "text/plain": [
       "array([[ 0.88457248,  0.21720737,  0.1091813 ],\n",
       "       [ 0.15875699,  0.66024058,  0.17796341],\n",
       "       [ 0.0172222 ,  0.02988751,  0.4853448 ]])"
      ]
     },
     "execution_count": 126,
     "metadata": {},
     "output_type": "execute_result"
    }
   ],
   "source": [
    "Z"
   ]
  },
  {
   "cell_type": "code",
   "execution_count": null,
   "metadata": {
    "collapsed": true
   },
   "outputs": [],
   "source": []
  }
 ],
 "metadata": {
  "kernelspec": {
   "display_name": "Python 2",
   "language": "python",
   "name": "python2"
  },
  "language_info": {
   "codemirror_mode": {
    "name": "ipython",
    "version": 2
   },
   "file_extension": ".py",
   "mimetype": "text/x-python",
   "name": "python",
   "nbconvert_exporter": "python",
   "pygments_lexer": "ipython2",
   "version": "2.7.11"
  }
 },
 "nbformat": 4,
 "nbformat_minor": 0
}
