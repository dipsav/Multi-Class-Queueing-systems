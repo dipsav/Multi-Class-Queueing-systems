{
 "cells": [
  {
   "cell_type": "markdown",
   "metadata": {},
   "source": [
    "# Main ideas\n",
    "\n",
    "## System Equilibrium Equations\n",
    "Let us denote as $P(\\bar{w}, \\bar{s})$ the probability to have $\\bar{w}$ items waiting and $\\bar{s}$ the items in service.\n",
    "\n",
    "The equilibrium equations are as follows:\n",
    "\n",
    "For $n>k$\n",
    "$$\\left (\\sum_{i=1}^N \\lambda_i +  \\sum_{i=1}^N s_i\\mu_i \\right) P(\\bar{w}, \\bar{s}) = \\sum_{i=1}^N \\lambda_i P(\\bar{w}-e_i, \\bar{s}) + \\sum_{i=1}^N \\sum_{j=1}^N \\frac{w_i+1}{|\\bar{w}|+1} (s_j + 1 - e_{ij})\\mu_j P(\\bar{w}+e_i, \\bar{s}-e_i+e_j)$$\n",
    "\n",
    "For $n=k$\n",
    "$$\\left (\\sum_{i=1}^N \\lambda_i +  \\sum_{i=1}^N s_i\\mu_i \\right) P(\\bar{0}, \\bar{s}) = \\sum_{i=1}^N \\lambda_i P(\\bar{0}, \\bar{s}-e_i) + \\sum_{i=1}^N \\sum_{j=1}^N (s_j + 1 - e_{ij})\\mu_j P(e_i, \\bar{s}-e_i+e_j)$$\n",
    "\n",
    "For $0<n<k$\n",
    "$$\\left (\\sum_{i=1}^N \\lambda_i +  \\sum_{i=1}^N s_i\\mu_i \\right) P(\\bar{0}, \\bar{s}) = \\sum_{i=1}^N \\lambda_i P(\\bar{0}, \\bar{s}-e_i) + \\sum_{j=1}^N (s_j + 1)\\mu_j P(0, \\bar{s}+e_j)$$\n",
    "\n",
    "For $0=n$\n",
    "$$\\sum_{i=1}^N \\lambda_i P(\\bar{0}, \\bar{0}) = \\sum_{j=1}^N \\mu_j P(0, e_j)$$"
   ]
  },
  {
   "cell_type": "markdown",
   "metadata": {},
   "source": [
    "## Product-Form Solution\n",
    "The steady state probabilities $P(\\bar{w}, \\bar{s})$ can be expressed as:\n",
    "$$P(\\bar{w}, \\bar{s}) =  |\\bar{w}|!  \\prod_{i=1}^N \\frac{\\alpha_i^{w_i}}{w_i!} P_n(\\bar{s})$$\n",
    "\n",
    "Denote further the vector that contains all  components $P_n(\\bar{s})$ as $\\mathbf{P}_n$ \n",
    "\n",
    "\n",
    "The equilibrium equations can be rewritten as:\n",
    "\n",
    "For $n>k$\n",
    "$$\\mathbf{A}_0 \\mathbf{P}_n = \\mathbf{\\Lambda} \\mathbf{P}_{n-1} + \\mathbf{A}_1 \\mathbf{P}_{n+1}$$\n",
    "where $\\mathbf{A}_0$ is a diagonal matrix with $\\sum_{i=1}^N \\lambda_i +  \\sum_{i=1}^N s_i\\mu_i$ on each diagonal cell corresponding to $\\bar{s}$. <br>In $\\mathbf{A}_1$ each element corrsponding to $(\\bar{s}, \\bar{s}-e_i+e_j)$ will be:\n",
    "$\\sum_{i=1}^N \\sum_{j=1}^N \\alpha_i (s_j + 1 - e_{ij})\\mu_j$ \n",
    "\n",
    "For $n=k$\n",
    "$$\\mathbf{A}_0 \\mathbf{P}_{n} = \\sum_{i=1}^N \\lambda_i P(\\bar{0}, \\bar{s}-e_i) + \\mathbf{A}_1 \\mathbf{P}_{n+1}$$\n",
    "\n",
    "For $0<n<k$\n",
    "$$\\left (\\sum_{i=1}^N \\lambda_i +  \\sum_{i=1}^N s_i\\mu_i \\right) P(\\bar{0}, \\bar{s}) = \\sum_{i=1}^N \\lambda_i P(\\bar{0}, \\bar{s}-e_i) + \\sum_{j=1}^N (s_j + 1)\\mu_j P(0, \\bar{s}+e_j)$$\n",
    "\n",
    "For $0=n$\n",
    "$$\\sum_{i=1}^N \\lambda_i P(\\bar{0}, \\bar{0}) = \\sum_{j=1}^N \\mu_j P(0, e_j)$$"
   ]
  },
  {
   "cell_type": "markdown",
   "metadata": {},
   "source": [
    "## Computing Steady-State probabilities\n",
    "### Steady-State probabilities for $n>k$\n",
    "The equation $\\mathbf{A}_0 \\mathbf{P}_n = \\mathbf{\\Lambda} \\mathbf{P}_{n-1} + \\mathbf{A}_1 \\mathbf{P}_{n+1}$ can be solved using Martix-Geometric approach and the probability vectors $\\mathbf{P}_n$ can be expressed as the following geometric series:\n",
    "$$\\mathbf{P}_n = \\mathbf{Z} \\mathbf{P}_{n-1} = \\mathbf{Z}^{n-k} \\mathbf{P}_{k}$$\n",
    "\n",
    "The matrix $\\mathbf{Z}$ is the solution of the following quadratic matxix equation:\n",
    "$$\\mathbf{A}_0 \\mathbf{Z} = \\mathbf{\\Lambda}  + \\mathbf{A}_1 \\mathbf{Z}^2$$\n",
    "and can be found using eigenvalue/vector formulations or using the follwoing iterative procedure.\n",
    "\n",
    "Define \n",
    "    $$\\mathbf{Z}_l = \\mathbf{A}_0^{-1} (\\mathbf{\\Lambda} + \\mathbf{A}_1 \\mathbf{Z}_{l-1}^2)$$\n",
    "Then if we start with $\\mathbf{Z_0}=\\mathbf{0}$, the matrix $\\mathbf{Z}$ will be:\n",
    "$$\\mathbf{Z} = \\lim_{l\\to \\infty} \\mathbf{Z}_{l}$$\n",
    "\n",
    "### Steady-State probabilities for $n\\le k$\n",
    "The probability vectors $\\mathbf{P}_n$ for $n\\le k$ will be computed as:\n",
    "$$ \\mathbf{P}_n = \\mathbf{Q}_{n-1} \\mathbf{P}_{n-1} = \\mathbf{Q}_{n-1} \\cdots \\mathbf{Q}_{0} \\mathbf{P}_{0} $$\n",
    "The matrices $\\mathbf{Q}_{n}$ are such that the following equations are satisified:\n",
    "$$\\mathbf{A}_{0,n} \\mathbf{Q}_{n} = \\mathbf{\\Lambda}_n  + \\mathbf{A}_{1,n} \\mathbf{Q}_{n+1}\\mathbf{Q}_{n}$$\n",
    "where:\n",
    " - $\\mathbf{\\Lambda}_n$ is and $dim(n) \\times dim(n-1)$ matrix corresponding to the terms with $ \\sum_{i=1}^N \\lambda_i P(\\bar{0}, \\bar{s}-e_i)$\n",
    " - $\\mathbf{A}_{0,n}$ is and $dim(n) \\times dim(n)$ matrix corresponding to the terms with $\\left (\\sum_{i=1}^N \\lambda_i +  \\sum_{i=1}^N s_i\\mu_i \\right) P(\\bar{0}, \\bar{s}) $\n",
    " - $\\mathbf{\\Lambda}_n$ is and $dim(n) \\times dim(n+1)$ matrix corresponding to the terms with $ \\sum_{j=1}^N (s_j + 1)\\mu_j P(0, \\bar{s}+e_j)$\n",
    "\n",
    "The matrix $\\mathbf{Q}_{n}$ will be computed iteratively as:\n",
    "- $\\mathbf{Q}_{k} = \\mathbf{Z}$\n",
    "- $\\mathbf{Q}_n = (\\mathbf{A}_{0,n} - \\mathbf{A}_{1,n} \\mathbf{Q}_{n+1})^{-1} \\mathbf{\\Lambda}_n$, for $n<k$\n",
    "\n",
    "\n",
    "After that we can compute $\\mathbf{P}_0$ using normalization equation:\n",
    "$$ \\mathbf{P}_0 = \\left (1 + \\mathbf{E}_1  \\mathbf{Q}_0 + \\mathbf{E}_2 \\mathbf{Q}_1 \\mathbf{Q}_0 + \\cdots + \\mathbf{E}_k (\\mathbf{I} - \\mathbf{Z} )^{-1} \\mathbf{Q}_{k-1} \\cdots \\mathbf{Q}_0 \\right )^{-1}$$ \n",
    "\n",
    "the the system state propoabilities as:\n",
    "- $\\mathbf{P}_n = \\mathbf{Q}_{n-1} \\mathbf{P}_{n-1}$, for $n\\le k$\n",
    "- $\\mathbf{P}_n = \\mathbf{Z} \\mathbf{P}_{n-1} $, for  $n > k$\n",
    "\n"
   ]
  },
  {
   "cell_type": "markdown",
   "metadata": {},
   "source": [
    "## Computing $E[N_i]$ and $Var[N_i]$\n",
    "\n",
    "$E[N_i]= E[Q_i] + Q[S_i] = E[Q_i] + {\\lambda_i \\over \\mu_i}$\n",
    "\n",
    "$E[Q_i]= \\alpha_i \\mathbf{1}^T (\\mathbf{I} - \\mathbf{Z} )^{-2} \\mathbf{Z} \\mathbf{P}_{k}$\n",
    "\n",
    "$Var[N_i]= E[Q^2_i] + E[Q_i\\cdot S_i] + E[S_i^2] - E[N_i]^2$\n",
    "\n",
    "$Var[Q_i] = E[Q_i^2] - E[Q_i]^2$\n",
    "\n",
    "$E[Q_i^2] = E[Q_i(Q_i-1)] + E[Q_i]$\n",
    "\n",
    "$E[Q_i(Q_i-1)] = 2 \\alpha^2_i \\mathbf{1}^T (\\mathbf{I} - \\mathbf{Z} )^{-3} \\mathbf{Z}^2 \\mathbf{P}_{k}$\n",
    "\n",
    "$E[Q_i S_i] = \\alpha_i \\mathbf{\\chi}_{k,S} (\\mathbf{I} - \\mathbf{Z} )^{-2} \\mathbf{Z} \\mathbf{P}_{k}$ - where $\\mathbf{\\chi_S}$ are the vectors containing number of items of each type in the service\n",
    "\n",
    "$E[S^2_i] = \\sum_{n=1}^{k-1} \\mathbf{\\chi}^2_{n,S} \\mathbf{P}_{n} + \\mathbf{\\chi}^2_{k,S} (\\mathbf{I} - \\mathbf{Z} ) \\mathbf{P}_{k} $ \n",
    "\n",
    "\n",
    "$Var[N_2] = E[Q_i(Q_i-1)] + E[Q_i] + 2E[Q_i S_i] + E[S^2_i]$\n",
    "\n"
   ]
  },
  {
   "cell_type": "markdown",
   "metadata": {},
   "source": [
    "------------------\n",
    "\n",
    "# Codes"
   ]
  },
  {
   "cell_type": "code",
   "execution_count": 84,
   "metadata": {
    "collapsed": true
   },
   "outputs": [],
   "source": [
    "# initialize libraries\n",
    "import numpy as np"
   ]
  },
  {
   "cell_type": "code",
   "execution_count": 85,
   "metadata": {
    "collapsed": true
   },
   "outputs": [],
   "source": [
    "# Define the generator that will generate all possible assignments of classes to servers, without permutations\n",
    "def generateVectorsFixedSum(m,n):\n",
    "    # generator for all combinations of $w$ for given number of servers and classes\n",
    "    if m==1:\n",
    "        yield [n]\n",
    "    else:\n",
    "        for i in range(n+1):\n",
    "            for vect in generateVectorsFixedSum(m-1,n-i):\n",
    "                yield [i]+vect"
   ]
  },
  {
   "cell_type": "code",
   "execution_count": 86,
   "metadata": {
    "collapsed": false
   },
   "outputs": [
    {
     "name": "stdout",
     "output_type": "stream",
     "text": [
      "0 [0, 0, 3]\n",
      "1 [0, 1, 2]\n",
      "2 [0, 2, 1]\n",
      "3 [0, 3, 0]\n",
      "4 [1, 0, 2]\n",
      "5 [1, 1, 1]\n",
      "6 [1, 2, 0]\n",
      "7 [2, 0, 1]\n",
      "8 [2, 1, 0]\n",
      "9 [3, 0, 0]\n"
     ]
    }
   ],
   "source": [
    "# Example\n",
    "mClasses = 3\n",
    "nServers = 3\n",
    "\n",
    "# to produce the combinations\n",
    "# the generators should be called in a loop\n",
    "# the loop will stop when all possible combinations are generated\n",
    "# the vectors contain numbers of customers of each class in the system\n",
    "for i, vec in enumerate(generateVectorsFixedSum(mClasses, nServers)):\n",
    "    print i, vec\n",
    "    \n",
    "# 'enumerate' produces two values, the generated vector and its number in the whole sequence.\n",
    "# 'enumerate' will be used later to produce mapping between the states of the system and matrix elements"
   ]
  },
  {
   "cell_type": "code",
   "execution_count": 87,
   "metadata": {
    "collapsed": false
   },
   "outputs": [
    {
     "name": "stdout",
     "output_type": "stream",
     "text": [
      "[ 3.  4.  5.]\n",
      "[ 5.  5.  5.]\n",
      "2.4\n"
     ]
    }
   ],
   "source": [
    "# create some data\n",
    "mClasses = 3\n",
    "nServers = 3\n",
    "lamda = np.array([3.0, 4.0, 5.0]) #np.linspace(1,2,mClasses)\n",
    "mu = 5*np.ones(mClasses) #np.linspace(2,1,mClasses)\n",
    "print lamda\n",
    "print mu\n",
    "print sum(lamda/mu)\n",
    "assert sum(lamda/mu)<nServers # ensure stability"
   ]
  },
  {
   "cell_type": "code",
   "execution_count": 88,
   "metadata": {
    "collapsed": true
   },
   "outputs": [],
   "source": [
    "# initialize \\Lamda and \\alpha\n",
    "lambdaTot = sum(lamda)\n",
    "alpha = lamda/lambdaTot"
   ]
  },
  {
   "cell_type": "code",
   "execution_count": 89,
   "metadata": {
    "collapsed": false
   },
   "outputs": [],
   "source": [
    "# create mapping between the combination vectors and matrix columns/rows\n",
    "idx_map = dict([ (tuple(vect), i) for i, vect in enumerate(generateVectorsFixedSum(mClasses, nServers)) ])\n",
    "# need to use tuple here as 'list' cannot be as a key\n",
    "i_map   = dict([(idx_map[idx], list(idx)) for idx in idx_map ]) \n",
    "# need to use list here as 'tuple' cannot be modified as will be need further"
   ]
  },
  {
   "cell_type": "code",
   "execution_count": 90,
   "metadata": {
    "collapsed": true
   },
   "outputs": [],
   "source": [
    "# function to get matrix index based on the system state\n",
    "def getIndexDict(idx, idx_map):\n",
    "    try:\n",
    "        return idx_map[tuple(idx)]\n",
    "    except KeyError:\n",
    "        return -1"
   ]
  },
  {
   "cell_type": "code",
   "execution_count": 91,
   "metadata": {
    "collapsed": false
   },
   "outputs": [],
   "source": [
    "# generate matrices A_0 and A_1\n",
    "q_max = len(idx_map)\n",
    "A0 = np.zeros((q_max,q_max))  #corresponds to terms with i items in queue\n",
    "A1 = np.zeros((q_max,q_max))  #corresponds to terms with i+1 items in queue\n",
    "for i, idx in i_map.items():\n",
    "    #diagonal term\n",
    "    A0[i,i] += 1 + np.sum(idx*mu)/lambdaTot\n",
    "\n",
    "    #term corresponding to end of service for item j1, start of service for j2\n",
    "    for j1 in xrange(mClasses):\n",
    "        for j2 in xrange(mClasses):\n",
    "            idx[j1] += 1; idx[j2] -= 1\n",
    "            i1 = getIndexDict(idx, idx_map)  #convert 'list' back to tuple to use it as a key\n",
    "            if i1>=0: A1[i,i1] += alpha[j2]/lambdaTot*idx[j1]*mu[j1]\n",
    "            idx[j1] -= 1; idx[j2] += 1"
   ]
  },
  {
   "cell_type": "code",
   "execution_count": 100,
   "metadata": {
    "collapsed": false
   },
   "outputs": [],
   "source": [
    "# compute matrix Z iteratively\n",
    "eps = 0.0000000000001\n",
    "I = np.eye(q_max) # produces identity matrix\n",
    "Z_prev = np.zeros((q_max, q_max)) \n",
    "delta=1\n",
    "A0_inv = np.linalg.inv(A0)\n",
    "while delta>eps:\n",
    "    Z = np.dot(A0_inv, I + np.dot(A1, np.dot(Z_prev, Z_prev)))  #invA0*(I+A1*Z*Z)\n",
    "    delta = np.sum(np.abs(Z-Z_prev))\n",
    "    Z_prev=Z"
   ]
  },
  {
   "cell_type": "code",
   "execution_count": 93,
   "metadata": {
    "collapsed": true
   },
   "outputs": [],
   "source": [
    "# generate Q matrices, it will be stored in a list\n",
    "Q = []\n",
    "idxMat = [] # matrix with server occupancy for each system state, will be used in computing the system parameters\n",
    "Q.insert(0, Z[:])\n",
    "idxMat.insert(0, np.array([x for x in i_map.values()]))"
   ]
  },
  {
   "cell_type": "code",
   "execution_count": 94,
   "metadata": {
    "collapsed": false
   },
   "outputs": [],
   "source": [
    "idx_map_nplus = idx_map #dict([ (tuple(vect), i) for i, vect in enumerate(generateVectorsFixedSum(mClasses, nServers)) ])\n",
    "i_map_nplus   = i_map #dict([(idx_map_nplus[idx], list(idx)) for idx in idx_map_nplus ])\n",
    "q_max_nplus   = len(idx_map_nplus)\n",
    "\n",
    "idx_map_n = idx_map_nplus\n",
    "i_map_n   = i_map_nplus\n",
    "q_max_n   = q_max_nplus\n",
    "\n",
    "A1_n = A1[:]\n",
    "\n",
    "for n in range(nServers,0,-1):\n",
    "    idx_map_nminus = dict([ (tuple(vect), i) for i, vect in enumerate(generateVectorsFixedSum(mClasses, n-1)) ])\n",
    "    i_map_nminus   = dict([(idx_map_nminus[idx], list(idx)) for idx in idx_map_nminus ])\n",
    "    q_max_nminus   = len(idx_map_nminus)\n",
    "\n",
    "    L_n = np.zeros((q_max_n,q_max_nminus))  #corresponds to terms with i items in queue\n",
    "    A0_n = np.zeros((q_max_n,q_max_n))  #corresponds to terms with i items in queue\n",
    "    for i, idx in i_map_n.items():\n",
    "\n",
    "        #diagonal term\n",
    "        A0_n[i,i] += 1 + np.sum(idx*mu)/lambdaTot\n",
    "\n",
    "        #term corresponding to arrival of item item j1\n",
    "        for j2 in xrange(mClasses):\n",
    "            idx[j2] -= 1\n",
    "            i2 = getIndexDict(idx, idx_map_nminus) \n",
    "            if i2>=0: L_n[i,i2] += alpha[j2]\n",
    "            idx[j2] += 1\n",
    "\n",
    "    # Q_n = (A_0 - A_1*Q_{n+1})^{-1}*L_n\n",
    "    Q.insert(0, np.dot(np.linalg.inv(A0_n-np.dot(A1_n, Q[0])), L_n)) \n",
    "\n",
    "    idx_map_nplus = idx_map_n\n",
    "    i_map_nplus   = i_map_n\n",
    "    q_max_nplus   = q_max_n\n",
    "\n",
    "    idx_map_n = idx_map_nminus\n",
    "    i_map_n   = i_map_nminus\n",
    "    q_max_n   = q_max_nminus\n",
    "    idxMat.insert(0, np.array([x for x in i_map_n.values()]))    \n",
    "\n",
    "\n",
    "    A1_n = np.zeros((q_max_n,q_max_nplus))  #corresponds to terms with i+1 items in queue\n",
    "    for i, idx in i_map_n.items():\n",
    "        #term corresponding to end of service for item j1\n",
    "        for j1 in xrange(mClasses):\n",
    "            idx[j1] += 1\n",
    "            i1 = getIndexDict(idx, idx_map_nplus) \n",
    "            if i1>=0: A1_n[i,i1] += idx[j1]*mu[j1]/lambdaTot\n",
    "            idx[j1] -= 1"
   ]
  },
  {
   "cell_type": "code",
   "execution_count": 95,
   "metadata": {
    "collapsed": false
   },
   "outputs": [],
   "source": [
    "# compute the P_n for n<k and normalize it such that sum(P_n) = 1\n",
    "P = []\n",
    "P.append([1.0])\n",
    "\n",
    "sm = 1.0\n",
    "for n in xrange(nServers):\n",
    "    P.append(np.dot(Q[n],P[-1]))\n",
    "    sm += sum(P[-1])\n",
    "\n",
    "sm += sum(np.dot(np.linalg.inv(np.eye(len(P[-1])) - Z), np.dot(Z,P[-1])))\n",
    "\n",
    "for p in P: p[:] /= sm  #normalization"
   ]
  },
  {
   "cell_type": "code",
   "execution_count": 96,
   "metadata": {
    "collapsed": true
   },
   "outputs": [],
   "source": [
    "# compute totals needed for the E[Q_i] - marginal distributions\n",
    "inv1minZ = np.linalg.inv(np.eye(len(P[-1])) - Z)\n",
    "EQTotal = sum(np.dot(np.dot(np.dot(inv1minZ,inv1minZ), Z),P[-1]))\n",
    "EQQmin1Total = 2*sum(np.dot(np.dot(np.dot(np.dot(np.dot(inv1minZ,inv1minZ),inv1minZ), Z), Z), P[-1]))\n",
    "EQ2Total = EQQmin1Total + EQTotal\n",
    "\n",
    "# compute 1st and 2nd marginal moments of the numbers in the queue E[Q_i] and E[Q_i^2]\n",
    "EQ = alpha*EQTotal\n",
    "EQQmin1 = alpha*alpha*EQQmin1Total\n",
    "EQ2 = EQQmin1 + EQ"
   ]
  },
  {
   "cell_type": "code",
   "execution_count": 97,
   "metadata": {
    "collapsed": false
   },
   "outputs": [],
   "source": [
    "# compute 1st and 2nd marginal moments of the numbers in the system E[N_i] and E[N_i^2]\n",
    "ENTotal = EQTotal + sum(lamda/mu)\n",
    "EN = EQ + lamda/mu\n",
    "\n",
    "# TODO compute the E[N_i^2]\n",
    "ES2 = np.zeros(mClasses)\n",
    "for (p, idx) in zip(P[:-1], idxMat[:-1]):\n",
    "    ES2 += np.dot(p, idx**2)\n",
    "ES2 += np.dot(np.dot(inv1minZ, P[-1]), idxMat[-1]**2)\n",
    "\n",
    "ESq = alpha*np.dot(np.dot(np.dot(np.dot(inv1minZ,inv1minZ), Z),P[-1]), idxMat[-1])\n",
    "\n",
    "EN2 = EQ2 + 2*ESq + ES2\n"
   ]
  },
  {
   "cell_type": "code",
   "execution_count": 98,
   "metadata": {
    "collapsed": true
   },
   "outputs": [],
   "source": [
    "# compute marginal variances of the numbers in the queue Var[Q_i] and in the system Var[N_i] \n",
    "VarQTotal = EQ2Total - EQTotal**2\n",
    "VarQ = EQ2 - EQ**2\n",
    "\n",
    "VarN = EN2 - EN**2\n",
    "\n"
   ]
  },
  {
   "cell_type": "code",
   "execution_count": 99,
   "metadata": {
    "collapsed": false
   },
   "outputs": [
    {
     "name": "stdout",
     "output_type": "stream",
     "text": [
      "[ 1.24719101  1.66292135  2.07865169]\n",
      "[ 2.21979548  3.39199596  4.78033077]\n"
     ]
    }
   ],
   "source": [
    "print EN\n",
    "print VarN"
   ]
  }
 ],
 "metadata": {
  "kernelspec": {
   "display_name": "Python 2",
   "language": "python",
   "name": "python2"
  },
  "language_info": {
   "codemirror_mode": {
    "name": "ipython",
    "version": 2
   },
   "file_extension": ".py",
   "mimetype": "text/x-python",
   "name": "python",
   "nbconvert_exporter": "python",
   "pygments_lexer": "ipython2",
   "version": "2.7.11"
  }
 },
 "nbformat": 4,
 "nbformat_minor": 0
}
