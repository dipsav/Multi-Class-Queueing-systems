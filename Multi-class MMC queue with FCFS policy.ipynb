{
 "cells": [
  {
   "cell_type": "markdown",
   "metadata": {},
   "source": [
    "# The system"
   ]
  },
  {
   "cell_type": "code",
   "execution_count": 1,
   "metadata": {
    "tags": []
   },
   "outputs": [],
   "source": [
    "%load_ext tikzmagic"
   ]
  },
  {
   "cell_type": "code",
   "execution_count": 2,
   "metadata": {},
   "outputs": [
    {
     "data": {
      "image/png": "[encoded data removed]"
     },
     "metadata": {},
     "output_type": "display_data"
    }
   ],
   "source": [
    "%%tikz -s 600,200 -l shapes -f png \n",
    "    \\tikzset{thick,\n",
    "        every node/.style={transform shape},\n",
    "        server/.style={draw, circle, inner sep=2pt},\n",
    "        every edge/.style = {draw, -latex}\n",
    "    }\n",
    "\n",
    "    \\newcommand{\\queue}[6]{\n",
    "        \\def\\basicwidth{0.5}\n",
    "        \\def\\nnodes{#4}\n",
    "        \\begin{scope}[shift = {(#1,#2)}, scale=#3]\n",
    "            \\draw (0,0) -- ++(#4*\\basicwidth+\\basicwidth,0) -- node[inner sep=0](#5){} ++(0,\\basicwidth) -- ++(-#4*\\basicwidth-\\basicwidth,0);\n",
    "            \\foreach \\x in {1,...,#4}{\t\\node[draw, minimum size=\\basicwidth*16] at (\\basicwidth/2 + \\x*\\basicwidth,  \\basicwidth/2) {};}\n",
    "            \\draw[latex-](\\basicwidth/3, \\basicwidth/2) -- node[above, xshift=-1pt, yshift=-1pt]{#6} ++ (-\\basicwidth*1.5, 0);\n",
    "        \\end{scope}\n",
    "    }\n",
    "\n",
    "    \\draw [fill=white] (-2,0.0) rectangle (6,-6);\n",
    "                            \n",
    "    \\foreach \\x in {1, ..., 4}{\\queue{0}{-1.2*\\x}{1}{3}{q\\x}{$\\lambda_\\x$}}\n",
    "    \\foreach \\x in {1, ..., 3}{\\node[server] (s\\x) at (4, -0.3-1.2*\\x) {$S_\\x$};}\n",
    "\n",
    "    \\foreach \\x in {1, ..., 4}{\n",
    "        \\foreach \\y in {1, ..., 3}{\n",
    "        \\draw (q\\x) edge (s\\y.west);}}\n"
   ]
  },
  {
   "cell_type": "markdown",
   "metadata": {},
   "source": [
    "# Main ideas\n",
    "\n",
    "## System Equilibrium Equations\n",
    "Let us denote as $P(\\bar{w}, \\bar{s})$ the probability to have $\\bar{w}$ items waiting and $\\bar{s}$ the items in service.\n",
    "\n",
    "The equilibrium equations are as follows:\n",
    "\n",
    "For $n>k$\n",
    "$$\\left (\\sum_{i=1}^N \\lambda_i +  \\sum_{i=1}^N s_i\\mu_i \\right) P(\\bar{w}, \\bar{s}) = \\sum_{i=1}^N \\lambda_i P(\\bar{w}-e_i, \\bar{s}) + \\sum_{i=1}^N \\sum_{j=1}^N \\frac{w_i+1}{|\\bar{w}|+1} (s_j + 1 - e_{ij})\\mu_j P(\\bar{w}+e_i, \\bar{s}-e_i+e_j)$$\n",
    "\n",
    "For $n=k$\n",
    "$$\\left (\\sum_{i=1}^N \\lambda_i +  \\sum_{i=1}^N s_i\\mu_i \\right) P(\\bar{0}, \\bar{s}) = \\sum_{i=1}^N \\lambda_i P(\\bar{0}, \\bar{s}-e_i) + \\sum_{i=1}^N \\sum_{j=1}^N (s_j + 1 - e_{ij})\\mu_j P(e_i, \\bar{s}-e_i+e_j)$$\n",
    "\n",
    "For $0<n<k$\n",
    "$$\\left (\\sum_{i=1}^N \\lambda_i +  \\sum_{i=1}^N s_i\\mu_i \\right) P(\\bar{0}, \\bar{s}) = \\sum_{i=1}^N \\lambda_i P(\\bar{0}, \\bar{s}-e_i) + \\sum_{j=1}^N (s_j + 1)\\mu_j P(0, \\bar{s}+e_j)$$\n",
    "\n",
    "For $0=n$\n",
    "$$\\sum_{i=1}^N \\lambda_i P(\\bar{0}, \\bar{0}) = \\sum_{j=1}^N \\mu_j P(0, e_j)$$"
   ]
  },
  {
   "cell_type": "markdown",
   "metadata": {},
   "source": [
    "## Product-Form Solution\n",
    "The steady state probabilities $P(\\bar{w}, \\bar{s})$ can be expressed as:\n",
    "$$P(\\bar{w}, \\bar{s}) =  |\\bar{w}|!  \\prod_{i=1}^N \\frac{\\alpha_i^{w_i}}{w_i!} P_n(\\bar{s})$$\n",
    "\n",
    "Denote further the vector that contains all  components $P_n(\\bar{s})$ as $\\mathbf{P}_n$ \n",
    "\n",
    "\n",
    "The equilibrium equations can be rewritten as:\n",
    "\n",
    "For $n>k$\n",
    "$$\\mathbf{A}_0 \\mathbf{P}_n = \\mathbf{\\Lambda} \\mathbf{P}_{n-1} + \\mathbf{A}_1 \\mathbf{P}_{n+1}$$\n",
    "where $\\mathbf{A}_0$ is a diagonal matrix with $\\sum_{i=1}^N \\lambda_i +  \\sum_{i=1}^N s_i\\mu_i$ on each diagonal cell corresponding to $\\bar{s}$. <br>In $\\mathbf{A}_1$ each element corrsponding to $(\\bar{s}, \\bar{s}-e_i+e_j)$ will be:\n",
    "$\\sum_{i=1}^N \\sum_{j=1}^N \\alpha_i (s_j + 1 - e_{ij})\\mu_j$ \n",
    "\n",
    "For $n=k$\n",
    "$$\\mathbf{A}_0 \\mathbf{P}_{n} = \\sum_{i=1}^N \\lambda_i P(\\bar{0}, \\bar{s}-e_i) + \\mathbf{A}_1 \\mathbf{P}_{n+1}$$\n",
    "\n",
    "For $0<n<k$\n",
    "$$\\left (\\sum_{i=1}^N \\lambda_i +  \\sum_{i=1}^N s_i\\mu_i \\right) P(\\bar{0}, \\bar{s}) = \\sum_{i=1}^N \\lambda_i P(\\bar{0}, \\bar{s}-e_i) + \\sum_{j=1}^N (s_j + 1)\\mu_j P(0, \\bar{s}+e_j)$$\n",
    "\n",
    "For $0=n$\n",
    "$$\\sum_{i=1}^N \\lambda_i P(\\bar{0}, \\bar{0}) = \\sum_{j=1}^N \\mu_j P(0, e_j)$$"
   ]
  },
  {
   "cell_type": "markdown",
   "metadata": {},
   "source": [
    "## State space dimensions\n",
    "$$dim(N, k) = \\frac{(N + k − 1)!}{k!(N − 1)!} $$"
   ]
  },
  {
   "cell_type": "code",
   "execution_count": 3,
   "metadata": {},
   "outputs": [
    {
     "data": {
      "text/plain": [
       "24310.0"
      ]
     },
     "execution_count": 3,
     "metadata": {},
     "output_type": "execute_result"
    }
   ],
   "source": [
    "N = 10\n",
    "k = 8\n",
    "from scipy.special import comb\n",
    "comb(N + k - 1, k)"
   ]
  },
  {
   "cell_type": "markdown",
   "metadata": {},
   "source": [
    "## Computing Steady-State probabilities\n",
    "### Steady-State probabilities for $n>k$\n",
    "The equation $\\mathbf{A}_0 \\mathbf{P}_n = \\mathbf{\\Lambda} \\mathbf{P}_{n-1} + \\mathbf{A}_1 \\mathbf{P}_{n+1}$ can be solved using Martix-Geometric approach and the probability vectors $\\mathbf{P}_n$ can be expressed as the following geometric series:\n",
    "$$\\mathbf{P}_n = \\mathbf{Z} \\mathbf{P}_{n-1} = \\mathbf{Z}^{n-k} \\mathbf{P}_{k}$$\n",
    "\n",
    "The matrix $\\mathbf{Z}$ is the solution of the following quadratic matxix equation:\n",
    "$$\\mathbf{A}_0 \\mathbf{Z} = \\mathbf{\\Lambda}  + \\mathbf{A}_1 \\mathbf{Z}^2$$\n",
    "and can be found using eigenvalue/vector formulations or using the follwoing iterative procedure.\n",
    "\n",
    "Define \n",
    "    $$\\mathbf{Z}_l = \\mathbf{A}_0^{-1} (\\mathbf{\\Lambda} + \\mathbf{A}_1 \\mathbf{Z}_{l-1}^2)$$\n",
    "Then if we start with $\\mathbf{Z_0}=\\mathbf{0}$, the matrix $\\mathbf{Z}$ will be:\n",
    "$$\\mathbf{Z} = \\lim_{l\\to \\infty} \\mathbf{Z}_{l}$$\n",
    "\n",
    "### Steady-State probabilities for $n\\le k$\n",
    "The probability vectors $\\mathbf{P}_n$ for $n\\le k$ will be computed as:\n",
    "$$ \\mathbf{P}_n = \\mathbf{Q}_{n-1} \\mathbf{P}_{n-1} = \\mathbf{Q}_{n-1} \\cdots \\mathbf{Q}_{0} \\mathbf{P}_{0} $$\n",
    "The matrices $\\mathbf{Q}_{n}$ are such that the following equations are satisified:\n",
    "$$\\mathbf{A}_{0,n} \\mathbf{Q}_{n} = \\mathbf{\\Lambda}_n  + \\mathbf{A}_{1,n} \\mathbf{Q}_{n+1}\\mathbf{Q}_{n}$$\n",
    "where:\n",
    " - $\\mathbf{\\Lambda}_n$ is and $dim(n) \\times dim(n-1)$ matrix corresponding to the terms with $ \\sum_{i=1}^N \\lambda_i P(\\bar{0}, \\bar{s}-e_i)$\n",
    " - $\\mathbf{A}_{0,n}$ is and $dim(n) \\times dim(n)$ matrix corresponding to the terms with $\\left (\\sum_{i=1}^N \\lambda_i +  \\sum_{i=1}^N s_i\\mu_i \\right) P(\\bar{0}, \\bar{s}) $\n",
    " - $\\mathbf{\\Lambda}_n$ is and $dim(n) \\times dim(n+1)$ matrix corresponding to the terms with $ \\sum_{j=1}^N (s_j + 1)\\mu_j P(0, \\bar{s}+e_j)$\n",
    "\n",
    "The matrix $\\mathbf{Q}_{n}$ will be computed iteratively as:\n",
    "- $\\mathbf{Q}_{k} = \\mathbf{Z}$\n",
    "- $\\mathbf{Q}_n = (\\mathbf{A}_{0,n} - \\mathbf{A}_{1,n} \\mathbf{Q}_{n+1})^{-1} \\mathbf{\\Lambda}_n$, for $n<k$\n",
    "\n",
    "\n",
    "After that we can compute $\\mathbf{P}_0$ using normalization equation:\n",
    "$$ \\mathbf{P}_0 = \\left (1 + \\mathbf{E}_1  \\mathbf{Q}_0 + \\mathbf{E}_2 \\mathbf{Q}_1 \\mathbf{Q}_0 + \\cdots + \\mathbf{E}_k (\\mathbf{I} - \\mathbf{Z} )^{-1} \\mathbf{Q}_{k-1} \\cdots \\mathbf{Q}_0 \\right )^{-1}$$ \n",
    "\n",
    "the the system state propoabilities as:\n",
    "- $\\mathbf{P}_n = \\mathbf{Q}_{n-1} \\mathbf{P}_{n-1}$, for $n\\le k$\n",
    "- $\\mathbf{P}_n = \\mathbf{Z} \\mathbf{P}_{n-1} $, for  $n > k$\n",
    "\n"
   ]
  },
  {
   "cell_type": "markdown",
   "metadata": {},
   "source": [
    "## Computing $E[N_i]$ and $Var[N_i]$\n",
    "\n",
    "$E[N_i]= E[Q_i] + Q[S_i] = E[Q_i] + {\\lambda_i \\over \\mu_i}$\n",
    "\n",
    "$E[Q_i]= \\alpha_i \\mathbf{1}^T (\\mathbf{I} - \\mathbf{Z} )^{-2} \\mathbf{Z} \\mathbf{P}_{k}$\n",
    "\n",
    "$Var[N_i]= E[Q^2_i] + E[Q_i\\cdot S_i] + E[S_i^2] - E[N_i]^2$\n",
    "\n",
    "$Var[Q_i] = E[Q_i^2] - E[Q_i]^2$\n",
    "\n",
    "$E[Q_i^2] = E[Q_i(Q_i-1)] + E[Q_i]$\n",
    "\n",
    "$E[Q_i(Q_i-1)] = 2 \\alpha^2_i \\mathbf{1}^T (\\mathbf{I} - \\mathbf{Z} )^{-3} \\mathbf{Z}^2 \\mathbf{P}_{k}$\n",
    "\n",
    "$E[Q_i S_i] = \\alpha_i \\mathbf{\\chi}_{k,S} (\\mathbf{I} - \\mathbf{Z} )^{-2} \\mathbf{Z} \\mathbf{P}_{k}$ - where $\\mathbf{\\chi_S}$ are the vectors containing number of items of each type in the service\n",
    "\n",
    "$E[S^2_i] = \\sum_{n=1}^{k-1} \\mathbf{\\chi}^2_{n,S} \\mathbf{P}_{n} + \\mathbf{\\chi}^2_{k,S} (\\mathbf{I} - \\mathbf{Z} ) \\mathbf{P}_{k} $ \n",
    "\n",
    "\n",
    "$Var[N_2] = E[Q_i(Q_i-1)] + E[Q_i] + 2E[Q_i S_i] + E[S^2_i]$\n",
    "\n"
   ]
  },
  {
   "cell_type": "markdown",
   "metadata": {},
   "source": [
    "------------------\n",
    "\n",
    "# Codes"
   ]
  },
  {
   "cell_type": "code",
   "execution_count": 4,
   "metadata": {
    "tags": []
   },
   "outputs": [],
   "source": [
    "# initialize libraries\n",
    "import numpy as np\n",
    "from collections import defaultdict\n",
    "np.set_printoptions(linewidth=200)"
   ]
  },
  {
   "cell_type": "code",
   "execution_count": 5,
   "metadata": {
    "tags": []
   },
   "outputs": [],
   "source": [
    "# Define the generator that will generate all possible assignments of classes to servers, without permutations\n",
    "def generateVectorsFixedSum(m,n):\n",
    "    # generator for all combinations of $w$ for given number of servers and classes\n",
    "    if m==1:\n",
    "        yield [n]\n",
    "    else:\n",
    "        for i in range(n+1):\n",
    "            for vect in generateVectorsFixedSum(m-1,n-i):\n",
    "                yield [i]+vect"
   ]
  },
  {
   "cell_type": "code",
   "execution_count": 6,
   "metadata": {},
   "outputs": [
    {
     "name": "stdout",
     "output_type": "stream",
     "text": [
      "0 [0, 0, 3]\n",
      "1 [0, 1, 2]\n",
      "2 [0, 2, 1]\n",
      "3 [0, 3, 0]\n",
      "4 [1, 0, 2]\n",
      "5 [1, 1, 1]\n",
      "6 [1, 2, 0]\n",
      "7 [2, 0, 1]\n",
      "8 [2, 1, 0]\n",
      "9 [3, 0, 0]\n"
     ]
    }
   ],
   "source": [
    "# Example\n",
    "mClasses = 3\n",
    "nServers = 3\n",
    "\n",
    "# to produce the combinations\n",
    "# the generators should be called in a loop\n",
    "# the loop will stop when all possible combinations are generated\n",
    "# the vectors contain numbers of customers of each class in the system\n",
    "for i, vec in enumerate(generateVectorsFixedSum(mClasses, nServers)):\n",
    "    print(i, vec)\n",
    "    \n",
    "# 'enumerate' produces two values, the generated vector and its number in the whole sequence.\n",
    "# 'enumerate' will be used later to produce mapping between the states of the system and matrix elements"
   ]
  },
  {
   "cell_type": "code",
   "execution_count": 7,
   "metadata": {},
   "outputs": [
    {
     "name": "stdout",
     "output_type": "stream",
     "text": [
      "[1.         1.33333333 1.66666667 2.         2.33333333 2.66666667 3.        ]\n",
      "[3.7281746  3.31393298 2.89969136 2.48544974 2.07120811 1.65696649 1.24272487]\n",
      "7.200000000000001 0.9000000000000001\n"
     ]
    }
   ],
   "source": [
    "# create some data\n",
    "mClasses = 7\n",
    "nServers = 8\n",
    "lamda = np.array([3.0, 4.0, 5.0]) #np.linspace(1,2,mClasses)\n",
    "mu = 5*np.ones(mClasses) #np.linspace(2,1,mClasses)\n",
    "lamda = np.linspace(1,3,mClasses)\n",
    "mu = np.linspace(3,1,mClasses)\n",
    "rho = 0.9\n",
    "mu_correction = sum(lamda/mu)/nServers/rho\n",
    "mu *= mu_correction\n",
    "print(lamda)\n",
    "print(mu)\n",
    "print(sum(lamda/mu), sum(lamda/mu)/nServers)\n",
    "assert sum(lamda/mu)<nServers # ensure stability"
   ]
  },
  {
   "cell_type": "code",
   "execution_count": 8,
   "metadata": {},
   "outputs": [],
   "source": [
    "# lamda = np.array([  2.23738889e-01,   4.94087095e-02,   9.83533638e-03,   2.32382124e-01,   3.31158691e-05,   7.81429552e-02,   2.04179403e-01,   1.43352018e-01,   4.02415285e-02,   1.86859200e-02])\n",
    "# mu =    np.array([  1.76753604e+00,   4.69646045e-02,   2.32412359e+00,   3.29198749e-01,   1.99622149e-05,   5.00131046e-01,   4.21953234e-01,   7.21777996e-02,   5.78270470e-02,   1.65334582e-02])\n",
    "# mClasses = len(lamda)\n",
    "# nServers = 10"
   ]
  },
  {
   "cell_type": "code",
   "execution_count": 9,
   "metadata": {},
   "outputs": [],
   "source": [
    "# lamda = np.array([  2.23738889e-01,   4.94087095e-02,   9.83533638e-03,   2.32382124e-01,   3.31158691e-05,   7.81429552e-02,   2.04179403e-01,   1.43352018e-01,   4.02415285e-02,   1.86859200e-02])\n",
    "# mu =    np.array([  1.76753604e+00,   4.69646045e-02,   2.32412359e+00,   3.29198749e-01,   1.99622149e-05,   5.00131046e-01,   4.21953234e-01,   7.21777996e-02,   5.78270470e-02,   1.65334582e-02])\n",
    "\n",
    "# print lamda/mu\n",
    "# print 1/mu[4]"
   ]
  },
  {
   "cell_type": "code",
   "execution_count": 10,
   "metadata": {
    "tags": []
   },
   "outputs": [],
   "source": [
    "# initialize \\Lamda and \\alpha\n",
    "lambdaTot = sum(lamda)\n",
    "alpha = lamda/lambdaTot\n",
    "muTot = lambdaTot/nServers/rho\n",
    "delta = muTot/mu-1"
   ]
  },
  {
   "cell_type": "code",
   "execution_count": 11,
   "metadata": {},
   "outputs": [
    {
     "data": {
      "text/plain": [
       "3003"
      ]
     },
     "execution_count": 11,
     "metadata": {},
     "output_type": "execute_result"
    }
   ],
   "source": [
    "# create mapping between the combination vectors and matrix columns/rows\n",
    "idx_map = defaultdict(None, [ (tuple(vect), i) for i, vect in enumerate(generateVectorsFixedSum(mClasses, nServers)) ])\n",
    "len(idx_map)"
   ]
  },
  {
   "cell_type": "code",
   "execution_count": 12,
   "metadata": {},
   "outputs": [
    {
     "data": {
      "text/plain": [
       "3003"
      ]
     },
     "execution_count": 12,
     "metadata": {},
     "output_type": "execute_result"
    }
   ],
   "source": [
    "# %%timeit\n",
    "# generate matrices A_0 and A_1\n",
    "q_max = len(idx_map)\n",
    "# A0_inv = np.zeros((q_max,q_max))  #corresponds to terms with i items in queue\n",
    "# A02_inv = np.zeros((q_max,q_max))  #corresponds to terms with i items in queue\n",
    "A0 = np.zeros((q_max,q_max))  #corresponds to terms with i items in queue\n",
    "A1 = np.zeros((q_max,q_max))  #corresponds to terms with i+1 items in queue\n",
    "# for i, idx in i_map.items():\n",
    "for idx, i in idx_map.items():    \n",
    "    #diagonal term\n",
    "#     print idx, mu, idx.shape, mu.shape, \n",
    "#     print np.sum(idx*mu), lambdaTot\n",
    "    A0[i,i] = (1 + np.sum(idx*mu)/lambdaTot)\n",
    "#     A0_inv[i,i] = 1/(1 + np.sum(idx*mu)/lambdaTot)\n",
    "    # A02_inv[i,i] = A0_inv[i,i]**2\n",
    "\n",
    "\n",
    "    #term corresponding to end of service for item j1, start of service for j2\n",
    "    for j1 in range(mClasses):\n",
    "        for j2 in range(mClasses):\n",
    "            idx_temp = list(idx)\n",
    "            idx_temp[j1] += 1; idx_temp[j2] -= 1\n",
    "            i1 = idx_map.get(tuple(idx_temp))  #convert 'list' back to tuple to use it as a key\n",
    "            if i1 != None: A1[i,i1] += alpha[j2]/lambdaTot*idx_temp[j1]*mu[j1]\n",
    "q_max"
   ]
  },
  {
   "cell_type": "code",
   "execution_count": 13,
   "metadata": {},
   "outputs": [],
   "source": [
    "def computeZ(A0, A1, dtype = np.float32, eps=1.06e-6): #delta_func = np.mean, \n",
    "    # compute matrix Z iteratively\n",
    "\n",
    "    delta=np.inf\n",
    "    Z_prev = np.zeros(A1.shape, dtype=dtype).astype(dtype)\n",
    "    A0_inv = np.linalg.inv(A0).astype(dtype)\n",
    "    A01 = A0_inv.astype(dtype) @ A1.astype(dtype) #.astype(dtype)\n",
    "    while delta>eps:\n",
    "        Z = A0_inv + A01 @ Z_prev @ Z_prev  #invA0*(I+A1*Z*Z)\n",
    "        delta = np.max(np.abs(Z-Z_prev))\n",
    "        Z_prev=Z\n",
    "        \n",
    "    invIminZ = np.linalg.inv(np.eye(A0.shape[0], dtype=dtype) - Z).astype(dtype)\n",
    "    invIminZZ = invIminZ@Z\n",
    "    invIminZ2Z = invIminZ@invIminZZ\n",
    "\n",
    "    return Z, invIminZ, invIminZZ, invIminZ2Z"
   ]
  },
  {
   "cell_type": "code",
   "execution_count": 14,
   "metadata": {},
   "outputs": [],
   "source": [
    "def computeZeigs(A0, A1, dtype = np.float32): #delta_func = np.mean, \n",
    "    H = np.vstack((np.hstack((A0, -A1)),np.hstack((np.eye(q_max), np.zeros((q_max,q_max)))))).astype(dtype)\n",
    "    \n",
    "    vals, vecs = np.linalg.eig(H) #.astype(dtype)\n",
    "\n",
    "    idx = np.real(vals).argsort()[::-1] \n",
    "    vals = np.real(vals).astype(dtype)[idx[:q_max]]\n",
    "    vecs = np.real(vecs).astype(dtype)[:q_max,idx[:q_max]]\n",
    "    inv_vecs = np.linalg.inv(vecs)\n",
    "\n",
    "    Z = vecs@np.diag(1/vals)@inv_vecs\n",
    "                        \n",
    "    invIminZ = vecs@np.diag(vals/(vals-1))@inv_vecs\n",
    "    invIminZZ = invIminZ@Z\n",
    "    invIminZ2Z = invIminZ@invIminZZ\n",
    "    \n",
    "    return vals, vecs, Z, invIminZ, invIminZZ, invIminZ2Z"
   ]
  },
  {
   "cell_type": "code",
   "execution_count": 15,
   "metadata": {},
   "outputs": [
    {
     "data": {
      "text/plain": [
       "2.09598933305008e-09"
      ]
     },
     "execution_count": 15,
     "metadata": {},
     "output_type": "execute_result"
    }
   ],
   "source": [
    "# two diffrent ways to compute Z matrix (iteratively and using eigen values)\n",
    "Z, invIminZ, invIminZZ, invIminZ2Z = computeZ(A0, A1, dtype = np.float64, eps=1.06e-10)\n",
    "vals, vecs, Z2, _, _, _ = computeZeigs(A0, A1, dtype = np.float64)\n",
    "\n",
    "np.abs(Z2 - Z).max()"
   ]
  },
  {
   "cell_type": "code",
   "execution_count": 16,
   "metadata": {},
   "outputs": [],
   "source": [
    "# %timeit computeZ(A0, A1)\n",
    "# %timeit computeZeigs(A0, A1)"
   ]
  },
  {
   "cell_type": "code",
   "execution_count": 17,
   "metadata": {},
   "outputs": [],
   "source": [
    "# generate Q matrices, it will be stored in a list\n",
    "Q = []\n",
    "idxMat = [] # matrix with server occupancy for each system state, will be used in computing the system parameters\n",
    "Q.insert(0, Z[:])\n",
    "idxMat.insert(0, np.array([x for x in idx_map.keys()]))"
   ]
  },
  {
   "cell_type": "code",
   "execution_count": 18,
   "metadata": {},
   "outputs": [],
   "source": [
    "# i_map_full = []\n",
    "# i_map_full.append(i_map)\n",
    "\n",
    "\n",
    "idx_map_nplus = idx_map \n",
    "q_max_nplus   = len(idx_map_nplus)\n",
    "\n",
    "idx_map_n = idx_map_nplus\n",
    "q_max_n   = q_max_nplus\n",
    "\n",
    "A1_n = A1[:]\n",
    "\n",
    "for n in range(nServers,0,-1):\n",
    "    idx_map_nminus = defaultdict(None, [(tuple(vect), i) for i, vect in enumerate(generateVectorsFixedSum(mClasses, n-1)) ])\n",
    "    q_max_nminus   = len(idx_map_nminus)\n",
    "    \n",
    "\n",
    "    L_n = np.zeros((q_max_n,q_max_nminus))  #corresponds to terms with i items in queue\n",
    "    A0_n = np.zeros((q_max_n,q_max_n))  #corresponds to terms with i items in queue\n",
    "    for idx, i in idx_map_n.items():\n",
    "\n",
    "        #diagonal term\n",
    "        A0_n[i,i] += 1 + np.sum(idx*mu)/lambdaTot\n",
    "\n",
    "        #term corresponding to arrival of item item j1\n",
    "        for j2 in range(mClasses):\n",
    "            idx_tmp = list(idx)\n",
    "            idx_tmp[j2] -= 1\n",
    "            i2 = idx_map_nminus.get(tuple(idx_tmp))\n",
    "            if i2 != None: L_n[i,i2] += alpha[j2]\n",
    "                \n",
    "\n",
    "    # Q_n = (A_0 - A_1*Q_{n+1})^{-1}*L_n\n",
    "    Q.insert(0, np.dot(np.linalg.inv(A0_n-np.dot(A1_n, Q[0])), L_n)) \n",
    "\n",
    "    idx_map_nplus = idx_map_n\n",
    "    q_max_nplus   = q_max_n\n",
    "\n",
    "    idx_map_n = idx_map_nminus\n",
    "    q_max_n   = q_max_nminus\n",
    "    idxMat.insert(0, np.array([x for x in idx_map_n.keys()]))    \n",
    "\n",
    "\n",
    "    A1_n = np.zeros((q_max_n,q_max_nplus))  #corresponds to terms with i+1 items in queue\n",
    "    for idx, i in idx_map_n.items():\n",
    "        #term corresponding to end of service for item j1\n",
    "        for j1 in range(mClasses):\n",
    "            idx_tmp = list(idx)\n",
    "            idx_tmp[j1] += 1\n",
    "            i1 = idx_map_nplus.get(tuple(idx_tmp))\n",
    "            if i1 != None: A1_n[i,i1] += idx_tmp[j1]*mu[j1]/lambdaTot\n",
    "                "
   ]
  },
  {
   "cell_type": "code",
   "execution_count": 19,
   "metadata": {},
   "outputs": [],
   "source": [
    "# compute the P_n for n<k and normalize it such that sum(P_n) = 1\n",
    "P = []\n",
    "P.append([1.0])\n",
    "\n",
    "sm = 1.0\n",
    "for n in range(nServers):\n",
    "    P.append(np.dot(Q[n],P[-1]))\n",
    "    sm += sum(P[-1])\n",
    "\n",
    "# inv1minZ = np.linalg.inv(np.eye(len(P[-1])) - Z)\n",
    "# inv1minZZ = inv1minZ@Z\n",
    "# inv1minZ2Z = inv1minZ@inv1minZZ\n",
    "sm += sum(invIminZZ@P[-1])\n",
    "\n",
    "for p in P: p[:] /= sm  #normalization"
   ]
  },
  {
   "cell_type": "code",
   "execution_count": 20,
   "metadata": {
    "jupyter": {
     "outputs_hidden": true
    }
   },
   "outputs": [],
   "source": [
    "# compute totals needed for the E[Q_i] - marginal distributions\n",
    "EQTotal = sum(invIminZ2Z@P[-1])\n",
    "EQQmin1Total = 2*sum(invIminZ@invIminZ2Z@Z@P[-1])\n",
    "EQ2Total = EQQmin1Total + EQTotal\n",
    "\n",
    "# compute 1st and 2nd marginal moments of the numbers in the queue E[Q_i] and E[Q_i^2]\n",
    "EQ = alpha*EQTotal\n",
    "EQQmin1 = alpha*alpha*EQQmin1Total\n",
    "EQ2 = EQQmin1 + EQ"
   ]
  },
  {
   "cell_type": "code",
   "execution_count": 21,
   "metadata": {},
   "outputs": [],
   "source": [
    "# compute 1st and 2nd marginal moments of the numbers in the system E[N_i] and E[N_i^2]\n",
    "ENTotal = EQTotal + sum(lamda/mu)\n",
    "EN = EQ + lamda/mu\n",
    "\n",
    "# TODO compute the E[N_i^2]\n",
    "ES2 = np.zeros(mClasses)\n",
    "for (p, idx) in zip(P[:-1], idxMat[:-1]):\n",
    "    ES2 += np.dot(p, idx**2)\n",
    "ES2 += invIminZ@P[-1]@idxMat[-1]**2\n",
    "\n",
    "ESq = alpha*(invIminZ2Z@P[-1]@idxMat[-1])\n",
    "\n",
    "EN2 = EQ2 + 2*ESq + ES2\n"
   ]
  },
  {
   "cell_type": "code",
   "execution_count": 22,
   "metadata": {
    "jupyter": {
     "outputs_hidden": true
    }
   },
   "outputs": [],
   "source": [
    "# compute marginal variances of the numbers in the queue Var[Q_i] and in the system Var[N_i] \n",
    "VarQTotal = EQ2Total - EQTotal**2\n",
    "VarQ = EQ2 - EQ**2\n",
    "\n",
    "VarN = EN2 - EN**2\n",
    "\n"
   ]
  },
  {
   "cell_type": "code",
   "execution_count": 23,
   "metadata": {},
   "outputs": [
    {
     "name": "stdout",
     "output_type": "stream",
     "text": [
      "[0.7719446  1.07396409 1.41430184 1.81211698 2.30189592 2.95261153 3.92520048]\n",
      "[1.25987003 1.94475656 2.78249166 3.79886127 5.04275367 6.61870361 8.79377484]\n"
     ]
    }
   ],
   "source": [
    "print(EN)\n",
    "print(VarN)"
   ]
  }
 ],
 "metadata": {
  "anaconda-cloud": {},
  "kernelspec": {
   "display_name": "Python 3",
   "language": "python",
   "name": "python3"
  },
  "language_info": {
   "codemirror_mode": {
    "name": "ipython",
    "version": 3
   },
   "file_extension": ".py",
   "mimetype": "text/x-python",
   "name": "python",
   "nbconvert_exporter": "python",
   "pygments_lexer": "ipython3",
   "version": "3.7.10"
  }
 },
 "nbformat": 4,
 "nbformat_minor": 4
}
