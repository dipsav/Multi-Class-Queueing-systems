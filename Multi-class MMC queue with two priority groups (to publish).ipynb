{
 "cells": [
  {
   "cell_type": "markdown",
   "metadata": {},
   "source": [
    "# Main ideas\n",
    "\n",
    "## System Equilibrium Equations\n",
    "Let us denote as $P(\\bar{w}^h,\\bar{s}^h,\\bar{w}^l,\\bar{s}^l,\\bar{r}^l)$ \n",
    "the probability to have $\\bar{w}^h,\\bar{w}^l$ items of high and low priorities waiting, $\\bar{s}^h,\\bar{w}^l,\\bar{r}^l$ items in service, and $\\bar{r}^l$ items of low priority withdrown from the service due to preemption (if assumed). We will assume that $\\bar{s}$ contains all items that were accepted once for service. That is, in non-preemptive case it will contain only the items in the service. In the preeptive case, it will also contain the items that are withdrown from the service.\n",
    "\n",
    "\n",
    "The equilibrium equations are as follows:\n",
    "\n",
    "For $|\\bar{w}_h|>0$\n",
    "$$\\left (\\sum_{i=1}^{N^h} \\lambda^h_i + \\sum_{i=1}^{N^l} \\lambda^l_i +  \\sum_{i=1}^{N^h} s^h_i\\mu^h_i \\right) P\\left(\\bar{w}^h,\\bar{s}^h,\\bar{w}^l,\\bar{0},\\bar{r}^l \\right) = \\sum_{i=1}^{N^h} \\lambda^h_i P\\left(\\bar{w}^h-e_i,\\bar{s}^h,\\bar{w}^l,\\bar{0},\\bar{r}^l \\right) \n",
    "+ \\sum_{i=1}^{N^l} \\lambda^l_i P\\left(\\bar{w}^h,\\bar{s}^h,\\bar{w}^l-e_i,\\bar{0},\\bar{r}^l \\right) \n",
    "\\\\+ \\sum_{i=1}^{N^h} \\sum_{j=1}^{N^h} \\frac{w^h_i+1}{|\\bar{w}_h|+1} (s^h_j + 1 - e_{ij})\\mu^h_j P\\left(\\bar{w}^h+e^h_i, \\bar{s}^h-e^h_i+e^h_j,\\bar{w}^l,\\bar{0},\\bar{r}^l \\right)$$\n",
    "\n",
    "For $|\\bar{w}_h|=0, |\\bar{s}_h|=k$\n",
    "$$\\left (\\sum_{i=1}^{N^h} \\lambda^h_i + \\sum_{i=1}^{N^l} \\lambda^l_i +  \\sum_{i=1}^{N^h} s^h_i\\mu^h_i \\right) P(0,\\bar{s}^h,\\bar{w}^l,0,\\bar{r}^l) = \\sum_{i=1}^{N^h} \\lambda^h_i P(0,\\bar{s}^h-e^h_i,\\bar{w}^l,e^l_i,\\bar{r}^l-e^l_i) \n",
    "+ \\sum_{i=1}^{N^l} \\lambda^l_i P(0,\\bar{s}^h,\\bar{w}^l-e_i,0,\\bar{r}^l) \n",
    "\\\\+ \\sum_{i=1}^{N^h} \\sum_{j=1}^{N^h}  (s^h_j + 1- e_{ij})\\mu^h_j P(e^h_j, \\bar{s}^h+e^h_i- e^h_j,\\bar{w}^l,0,\\bar{r}^l)\n",
    "$$\n",
    "\n",
    "\n",
    "For $|\\bar{w}_h|=0, |\\bar{s}_h|<k$\n",
    "$$\\left (\\sum_{i=1}^{N^h} \\lambda^h_i + \\sum_{i=1}^{N^l} \\lambda^l_i +  \\sum_{i=1}^{N^h} s^h_i\\mu^h_i  +  \\sum_{i=1}^{N^l} s^l_i\\mu^l_i \\right) P(0,\\bar{s}^h,\\bar{w}^l,\\bar{s}^l,\\bar{r}^l) = \\sum_{i=1}^{N^l} \\lambda^l_i P(0,\\bar{s}^h,\\bar{w}^l-e_i,\\bar{s}^l,\\bar{r}^l) \n",
    "\\\\+\\sum_{i=1}^{N^h} \\lambda^h_i \\sum_{j=1}^{N^l} \\frac{s^l_i+1}{|\\bar{s}_l|+1} P(0,\\bar{s}^h-e_i,\\bar{w}^l,\\bar{s}^l + e_j,\\bar{r}^l - e_j) \n",
    "\\\\+ I(r^l=0)\\sum_{i=1}^{N^h} \\sum_{j=1}^{N^l} \\frac{w^l_i+1}{|\\bar{w}_l|+1} (s^h_j + 1)\\mu^h_j P(0, \\bar{s}^h+e_i,\\bar{w}^l+e^l_j,\\bar{s}^l-e^l_j,\\bar{r}^l)\n",
    "\\\\+ I(r^l=0)\\sum_{i=1}^{N^l} \\sum_{j=1}^{N^l} \\frac{w^l_i+1}{|\\bar{w}_l|+1} (s^l_j + 1 - e_{ij})\\mu^l_j P(0, \\bar{s}^h,\\bar{w}^l+e^l_j,\\bar{s}^l-e^l_i+e^l_j,\\bar{r}^l)\n",
    "\\\\+ \\sum_{i=1}^{N^h} \\sum_{j=1}^{N^l} \\frac{r^l_i+1}{|\\bar{r}_l|+1} (s^h_j + 1)\\mu^h_j P(0, \\bar{s}^h+e_i,\\bar{w}^l,\\bar{s}^l-e^l_j,\\bar{r}^l+e^l_j)\n",
    "\\\\+ \\sum_{i=1}^{N^l} \\sum_{j=1}^{N^l} \\frac{r^l_i+1}{|\\bar{r}_l|+1} (s^l_j + 1 - e_{ij})\\mu^l_j P(0, \\bar{s}^h,\\bar{w}^l,\\bar{s}^l-e^l_i+e^l_j,\\bar{r}^l+e^l_j)$$\n",
    "\n",
    "For $|\\bar{w}_h| + |\\bar{w}_l| =0, |\\bar{s}_h| + |\\bar{s}_l| = k, |\\bar{r}_l| = 0$\n",
    "$$\\left (\\sum_{i=1}^{N^h} \\lambda^h_i + \\sum_{i=1}^{N^l} \\lambda^l_i +  \\sum_{i=1}^{N^h} s^h_i\\mu^h_i  +  \\sum_{i=1}^{N^l} s^l_i\\mu^l_i \\right) P(0,\\bar{s}^h,0,\\bar{s}^l,0) = \\sum_{i=1}^{N^h} \\lambda^h_i P(0,\\bar{s}^h-e_i,0,\\bar{s}^l,0) \n",
    "+ \\sum_{i=1}^{N^l} \\lambda^l_i P(0,\\bar{s}^h,0,\\bar{s}^l-e_i,0) \n",
    "\\\\+ \\sum_{i=1}^{N^h} \\sum_{j=1}^{N^l} (s^h_j + 1)\\mu^h_j P(0, \\bar{s}^h+e_i,e^l_j,\\bar{s}^l-e^l_j,\\bar{r}^l)\n",
    "\\\\+ \\sum_{i=1}^{N^l} \\sum_{j=1}^{N^l} (s^l_j + 1 - e_{ij})\\mu^l_j P(0, \\bar{s}^h,e^l_j,\\bar{s}^l-e^l_i+e^l_j,\\bar{r}^l)\n",
    "\\\\+ \\sum_{i=1}^{N^h} \\sum_{j=1}^{N^l}  (s^h_j + 1)\\mu^h_j P(0, \\bar{s}^h+e_i,0,\\bar{s}^l-e^l_j,e^l_j)\n",
    "\\\\+ \\sum_{i=1}^{N^l} \\sum_{j=1}^{N^l}  (s^l_j + 1 - e_{ij})\\mu^l_j P(0, \\bar{s}^h,0,\\bar{s}^l-e^l_i+e^l_j,e^l_j)$$\n",
    "\n",
    "\n",
    "For $0<|\\bar{s}_h| + |\\bar{s}_l| < k$\n",
    "$$\\left (\\sum_{i=1}^{N^h} \\lambda^h_i + \\sum_{i=1}^{N^l} \\lambda^l_i + \\sum_{i=1}^{N^h} s^h_i\\mu^h_i  +  \\sum_{i=1}^{N^l} s^l_i\\mu^l_i \\right) P(0,\\bar{s}^h,0,\\bar{s}^l,0) = \\sum_{i=1}^{N^h} \\lambda^h_i P(0,\\bar{s}^h-e_i,0,\\bar{s}^l,0) + \\sum_{i=1}^{N^l} \\lambda^l_i P(0,\\bar{s}^h,0,\\bar{s}^l-e^l_i,0) \n",
    "\\\\+ \\sum_{i=1}^{N^h} (s^h_j + 1)\\mu^h_j P(0, \\bar{s}^h+e_i,0,\\bar{s}^l,0)\n",
    "+ \\sum_{i=1}^{N^l} (s^l_j + 1)\\mu^l_j P(0, \\bar{s}^h,0,\\bar{s}^l+e^l_i,0)$$\n",
    "\n",
    "\n",
    "For $|\\bar{s}_h| + |\\bar{s}_l| = k$\n",
    "$$\\left (\\sum_{i=1}^{N^h} \\lambda^h_i + \\sum_{i=1}^{N^l} \\lambda^l_i \\right) P\\left(\\bar{0},\\bar{0},\\bar{0},\\bar{0},\\bar{0}\\right) = \\sum_{i=1}^{N^h} \\mu^h_i P\\left(\\bar{0},e^h_i,\\bar{0},\\bar{0},\\bar{0}\\right) + \\sum_{i=1}^{N^l} \\mu^l_i P\\left(\\bar{0},\\bar{0},\\bar{0},e^l_i,\\bar{0}\\right)$$"
   ]
  },
  {
   "cell_type": "markdown",
   "metadata": {},
   "source": [
    "\n",
    "## Product form\n",
    "Let us denote as $P(\\bar{w}^h,\\bar{s}^h,\\bar{w}^l,\\bar{s}^l,\\bar{r}^l)$ \n",
    "the probability to have $\\bar{w}^h,\\bar{w}^l$ items of high and low priorities waiting, $\\bar{s}^h,\\bar{s}^l$ items in service, and $\\bar{r}^l$ items of low priority withdrown from the service due to preemption (if assumed). We will assume that $\\bar{s}$ contains all items that were accepted once for service. That is, in non-preemptive case it will contain only the items in the service. In the preeptive case, it will also contain the items that are withdrown from the service.\n",
    "\n",
    "With this assumption, the steady state probabilities $P(\\bar{w}, \\bar{s})$ can be expressed as:\n",
    "$$P(\\bar{w}^h, \\bar{s}^h, \\bar{w}^l, \\bar{s}^l, \\bar{r}^l) =  |\\bar{w}^h|!  \\prod_{i=1}^N \\frac{(\\alpha^h_i)^{w^h_i}}{w^h_i!} |\\bar{w}^l|!  \\prod_{i=1}^N \\frac{(\\alpha_i^l)^{w^l_i}}{w^l_i!} P_{|\\bar{w}^h|,|\\bar{w}^l|}(\\bar{s}^h,\\bar{s}^l,\\bar{r}^l)$$\n",
    "\n",
    "\n",
    "## Equilibrium equations for $P_{|\\bar{w}^h|,|\\bar{w}^l|}(\\bar{s}^h,\\bar{s}^l,\\bar{r}^l)$, when $|\\bar{w}_h|>0$\n",
    "$$\\left (\\sum_{i=1}^{N^h} \\lambda^h_i + \\sum_{i=1}^{N^l} \\lambda^l_i +  \\sum_{i=1}^{N^h} s^h_i\\mu^h_i \\right) P_{|\\bar{w}^h|,|\\bar{w}^l|}(\\bar{s}^h,\\bar{s}^l,\\bar{r}^l) = \n",
    "\\left ( \\sum_{i=1}^{N^h} \\lambda^h_i \\right ) P_{|\\bar{w}^h|-1,|\\bar{w}^l|}(\\bar{s}^h,\\bar{s}^l,\\bar{r}^l) \n",
    "+ \\left ( \\sum_{i=1}^{N^l} \\lambda^l_i \\right ) P_{|\\bar{w}^h|,|\\bar{w}^l|-1}(\\bar{s}^h,\\bar{s}^l,\\bar{r}^l) \n",
    "\\\\+ \\sum_{i=1}^{N^h} \\sum_{j=1}^{N^h} \\frac{\\lambda^h_i}{\\sum_{i=1}^{N^h} \\lambda^h_i} (s^h_j + 1 - e_{ij})\\mu^h_j P_{|\\bar{w}^h|+1,|\\bar{w}^l|} (\\bar{s}^h-e^h_i+e^h_j,\\bar{0},\\bar{r}^l )$$\n",
    "\n"
   ]
  },
  {
   "cell_type": "markdown",
   "metadata": {},
   "source": [
    "### Solution of the equilibrium equations, for $P_{|\\bar{w}^h|,|\\bar{w}^l|}(\\bar{s}^h,\\bar{s}^l,\\bar{r}^l)$, when $|\\bar{w}_h|>0$\n",
    "Let us denote:<br>\n",
    "$q^h = |\\bar{w}_h|$,  $q^l = |\\bar{w}_l|$<br>\n",
    "$\\Lambda^h = \\sum_{i=1}^{N^h} \\lambda^h_i$,  $\\Lambda^l = \\sum_{i=1}^{N^l} \\lambda^l_i$,  <br>\n",
    "$\\alpha^h_i = \\frac{\\lambda^h_i}{\\sum_{i=1}^{N^h} \\lambda^h_i} = \\lambda^h_i/ \\Lambda_h$,  <br>\n",
    "\n",
    "For $q_h>0$\n",
    "$$ \\mathbf{A}_0 \\mathbf{P}_{q^h,q^l} =  \\Lambda^h  \\mathbf{P}_{q^h-1,q^l} + \\Lambda^l  \\mathbf{P}_{q^h,q^l-1} \n",
    "+ \\mathbf{A}_1 \\mathbf{P}_{q^h+1,q^l}$$\n",
    "\n",
    "$\\mathbf{A}_0$ is such that $\\mathbf{A}_0 \\mathbf{P}_{q^h,q^l}[\\bar{s}^h,0,\\bar{r}^l] = \\left (\\Lambda^h + \\Lambda^l +  \\sum_{i=1}^{N^h} s^h_i\\mu^h_i \\right) P_{q^h,q^l}(\\bar{s}^h,0,\\bar{r}^l)$<br>\n",
    "$\\mathbf{A}_1$ is such that $\\mathbf{A}_1 \\mathbf{P}_{q^h,q^l}[\\bar{s}^h,0,\\bar{r}^l] = \\sum_{i=1}^{N^h} \\sum_{j=1}^{N^h} \\alpha^h_i (s^h_j + 1 - e_{ij})\\mu^h_j P_{q^h,q^l}(\\bar{s}^h-e^h_i+e^h_j,\\bar{0},\\bar{r}^l )$<br>\n",
    "\n",
    "Define the matrix function $\\mathbf{Z}(\\xi)$ as such solution of\n",
    "$$\\mathbf{A}_0 =  \\Lambda^h  \\mathbf{Z}^{-1}(\\xi) + \\Lambda^l \\xi  + \\mathbf{A}_1 \\mathbf{Z}(\\xi)$$\n",
    "that satisfies to condition that for all eigenvalues $\\alpha(\\mathbf{Z}(\\xi))$ it holds that \n",
    "$|\\alpha(\\mathbf{Z}(\\xi))|>1$, for $\\xi=0,1$.\n",
    "\n",
    "Then\n",
    "$$\\mathbf{P}_{q^h,q^l} = \\frac{1}{q^l!} \\left (\\frac{d}{d\\xi}\\right)^{q^l}  \\mathbf{Z}^{q^h-1}(\\xi) \\mathbf{C}(\\xi) \\Bigg |_{\\xi=0}$$\n",
    "\n",
    "That is, probabilitis $\\mathbf{P}_{q^h,q^l}$ are computed using a mixture of matrix-geometric and a generating fucntion approaches\n"
   ]
  },
  {
   "cell_type": "markdown",
   "metadata": {},
   "source": [
    "---\n",
    "$\\mathbf{Z}(\\xi)$ satisfies:\n",
    "$$\\mathbf{A}_0 =  \\Lambda^h  \\mathbf{Z}^{-1}(\\xi)  +  \\Lambda^l \\xi  + \\mathbf{A}_1 \\mathbf{Z}(xi)$$\n",
    "\n",
    "$\\frac{d}{d\\xi}\\mathbf{Z}(\\xi)$ and $\\frac{d}{d\\xi} \\mathbf{Z}^{-1}(\\xi)$ satisfy:\n",
    "\\begin{align}\n",
    "    \\Lambda^h  \\frac{d}{d\\xi} \\mathbf{Z}^{-1}(\\xi)  + \\mathbf{A}_1 \\frac{d}{d\\xi}\\mathbf{Z}(\\xi) &= - \\Lambda^l\\\\\n",
    "    \\frac{d}{d\\xi} \\mathbf{Z}^{-1}(\\xi) \\mathbf{Z}(\\xi) +  \\mathbf{Z}^{-1}(\\xi) \\frac{d}{d\\xi}\\mathbf{Z}(\\xi) &= 0\n",
    "\\end{align}\n",
    "\n",
    "$\\frac{d}{d\\xi}\\mathbf{Z}^{-1}(\\xi)$ can be expressed as:\n",
    "$$\\frac{d}{d\\xi} \\mathbf{Z}^{-1}(\\xi) = -  \\mathbf{Z}^{-1}(\\xi) \\frac{d}{d\\xi}\\mathbf{Z}(\\xi) \\mathbf{Z}^{-1}(\\xi)$$\n",
    "\n",
    "and $\\frac{d}{d\\xi}\\mathbf{Z}(\\xi)$ will be the solution of the Sylvester type equation:\n",
    "$$     \\frac{d}{d\\xi}\\mathbf{Z}(\\xi) \\mathbf{Z}^{-1}(\\xi) \\Lambda^h  - \\mathbf{Z}(\\xi)\\mathbf{A}_1 \\frac{d}{d\\xi}\\mathbf{Z}(\\xi) =  \\Lambda^l \\mathbf{Z}(\\xi) $$"
   ]
  },
  {
   "cell_type": "markdown",
   "metadata": {},
   "source": [
    "---\n",
    "Further derivatives will satisfy:\n",
    "$\\frac{d^n}{d\\xi^n}\\mathbf{Z}(\\xi)$ and $\\frac{d^n}{d\\xi^n} \\mathbf{Z}^{-1}(\\xi)$ satisfy:\n",
    "\\begin{align}\n",
    "    \\Lambda^h  \\frac{d^n}{d\\xi^n} \\mathbf{Z}^{-1}(\\xi)  + \\mathbf{A}_1 \\frac{d^n}{d\\xi^n}\\mathbf{Z}(\\xi) &= 0\\\\\n",
    "    \\frac{d^n}{d\\xi^n} \\mathbf{Z}^{-1}(0) \\mathbf{Z}(\\xi)  +  \\mathbf{Z}^{-1}(\\xi) \\frac{d^n}{d\\xi^n}\\mathbf{Z}(\\xi) &= - \n",
    "    \\sum_{i=1}^{n-1} {n \\choose i} \\frac{d^i}{d\\xi^i} \\mathbf{Z}^{-1}(\\xi) \\frac{d^{n-i}}{d\\xi^{n-i}}\\mathbf{Z}(\\xi)\n",
    "\\end{align}\n",
    "\n",
    "$\\frac{d^n}{d\\xi^n} \\mathbf{Z}^{-1}(\\xi)$ can be expressed as:\n",
    "$$\\frac{d^n}{d\\xi^n} \\mathbf{Z}^{-1}(\\xi) = -  \\frac{1}{\\Lambda^h} \\mathbf{A}_1 \\frac{d^n}{d\\xi^n}\\mathbf{Z}(\\xi) $$\n",
    "\n",
    "$$ - \\frac{1}{\\Lambda^h} \\mathbf{A}_1 \\frac{d^n}{d\\xi^n}\\mathbf{Z}(\\xi) \\mathbf{Z}(\\xi)  +  \\mathbf{Z}^{-1}(\\xi) \\frac{d^n}{d\\xi^n}\\mathbf{Z}(\\xi) = - \n",
    "    \\sum_{i=1}^{n-1} {n \\choose i} \\frac{d^i}{d\\xi^i} \\mathbf{Z}^{-1}(\\xi) \\frac{d^{n-i}}{d\\xi^{n-i}}\\mathbf{Z}(\\xi)$$\n",
    "\n",
    "\n",
    "\n",
    "and $\\frac{d^n}{d\\xi^n}\\mathbf{Z}(\\xi)$ will be the solution of the Sylvester type equation:\n",
    "$$ - \\mathbf{Z}(\\xi)  \\mathbf{A}_1 \\frac{d^n}{d\\xi^n}\\mathbf{Z}(\\xi)   + \\frac{d^n}{d\\xi^n}\\mathbf{Z}(\\xi) \\mathbf{Z}^{-1}(\\xi) \\Lambda^h = - \\Lambda^h \\mathbf{Z}(\\xi)\\left [ \\sum_{i=1}^{n-1} {n \\choose i} \\frac{d^i}{d\\xi^i} \\mathbf{Z}^{-1}(\\xi) \\frac{d^{n-i}}{d\\xi^{n-i}}\\mathbf{Z}(\\xi) \\right ] \\mathbf{Z}^{-1}(\\xi)$$\n",
    "\n"
   ]
  },
  {
   "cell_type": "markdown",
   "metadata": {},
   "source": [
    "---\n",
    "\n",
    "<b> procedure for computing $\\frac{d^n}{d\\xi^n} \\mathbf{Z}(\\xi)$ and $\\frac{d^n}{d\\xi^n} \\mathbf{Z}^{-1}(\\xi)$</b>"
   ]
  },
  {
   "cell_type": "code",
   "execution_count": 1,
   "metadata": {
    "collapsed": true
   },
   "outputs": [],
   "source": [
    "import numpy as np\n",
    "np.set_printoptions(precision=5, linewidth=400, threshold=np.nan)\n",
    "import itertools"
   ]
  },
  {
   "cell_type": "code",
   "execution_count": 2,
   "metadata": {
    "collapsed": true
   },
   "outputs": [],
   "source": [
    "from scipy import sparse as spr, linalg as lng\n",
    "from scipy.sparse import lil_matrix\n",
    "from scipy.sparse.linalg import inv as spr_inv"
   ]
  },
  {
   "cell_type": "code",
   "execution_count": 3,
   "metadata": {
    "collapsed": true
   },
   "outputs": [],
   "source": [
    "# Define the generator that will generate all possible assignments of classes to servers, without permutations\n",
    "def generateVectorsFixedSum(m,n):\n",
    "    # generator for all combinations of $w$ for given number of servers and classes\n",
    "    if m==1:\n",
    "        yield [n]\n",
    "    else:\n",
    "        for i in range(n+1):\n",
    "            for vect in generateVectorsFixedSum(m-1,n-i):\n",
    "                yield [i]+vect"
   ]
  },
  {
   "cell_type": "code",
   "execution_count": 4,
   "metadata": {
    "collapsed": true
   },
   "outputs": [],
   "source": [
    "# Define the generator that will generate all possible assignments of classes to servers, without permutations\n",
    "def generateVectorsAllSums(m,n):\n",
    "    # generator for all combinations of $w$ for given number of servers and classes\n",
    "    for i in range (n+1):\n",
    "        for vect in generateVectorsFixedSum(m,i):\n",
    "            yield vect"
   ]
  },
  {
   "cell_type": "code",
   "execution_count": 5,
   "metadata": {
    "collapsed": true
   },
   "outputs": [],
   "source": [
    "# function to get matrix index based on the system state\n",
    "def getIndexDict(idx, idx_map):\n",
    "    try:\n",
    "        return idx_map[tuple(idx)]\n",
    "    except KeyError:\n",
    "        return -1"
   ]
  },
  {
   "cell_type": "code",
   "execution_count": 6,
   "metadata": {
    "collapsed": true
   },
   "outputs": [],
   "source": [
    "from contextlib import contextmanager\n",
    "def computeZ_primes(lamdaH, muH, lamdaL, muL, nServers, xi, eps=0.0000000001, maxPrimes=2):\n",
    "    # k -- is the number of servers\n",
    "    # xi -- is the 0, 1 parameter\n",
    "\n",
    "    # ===== initialize =========\n",
    "    LambdaH = sum(lamdaH)\n",
    "    LambdaL = sum(lamdaL)\n",
    "    alphaH = lamdaH / sum(lamdaH)\n",
    "    # alphaL = lamdaL / sum(lamdaL)\n",
    "    mClassesH = len(lamdaH)\n",
    "    mClassesL = len(lamdaL)\n",
    "\n",
    "    # generate all combinations for preemptive priotity system, with items in queue\n",
    "    idx_map = dict((tuple(tuple(v) for v in vec), i) for i, vec in \\\n",
    "                   enumerate(itertools.product((generateVectorsFixedSum(mClassesH, nServers)),\n",
    "                                               [[0] * mClassesL],\n",
    "                                               (generateVectorsAllSums(mClassesL, nServers)))))\n",
    "\n",
    "    q_max = len(idx_map)\n",
    "    A0_sp_inv = spr.lil_matrix((q_max, q_max), dtype=float)  # corresponds to terms with i items in queue\n",
    "    A1_sp = spr.lil_matrix((q_max, q_max), dtype=float)  # corresponds to terms with i+1 items in queue\n",
    "    for idx, i in idx_map.items():\n",
    "        # diagonal term\n",
    "        A0_sp_inv[i, i] += 1 / (LambdaH + LambdaL * (1 - xi) + np.sum(idx[0] * muH))\n",
    "\n",
    "        # term corresponding to end of service for item j1, start of service for j2\n",
    "        for j1, j2 in itertools.product(range(mClassesH), range(mClassesH)):\n",
    "            idxH = list(idx[0])\n",
    "            idxH[j1] += 1; idxH[j2] -= 1\n",
    "            i1 = getIndexDict(tuple([tuple(idxH)]) + idx[1:], idx_map)  # convert 'list' back to tuple to use it as a key\n",
    "            if i1 >= 0: A1_sp[i, i1] += alphaH[j2] * idxH[j1] * muH[j1]\n",
    "\n",
    "    # ========= compute Z(xi) iteratively =============\n",
    "    # print A0_sp_inv\n",
    "    I = spr.eye(q_max)  # produces identity matrix\n",
    "    Z_prev = spr.lil_matrix((q_max, q_max), dtype=float)\n",
    "\n",
    "    diff = 1\n",
    "\n",
    "    Z = []\n",
    "    Z.append(None)\n",
    "    invZ = []\n",
    "\n",
    "    while diff > eps:\n",
    "        Z[0] = A0_sp_inv.dot(LambdaH * I + A1_sp.dot(Z_prev).dot(Z_prev))  # invA0*(I+A1*Z0*Z0)\n",
    "        diff = np.sum(np.abs(Z[0] - Z_prev))\n",
    "        Z_prev = Z[0]\n",
    "\n",
    "    invZ.append(spr_inv(Z[0].tocsc()))\n",
    "\n",
    "    A = -Z[0].dot(A1_sp)\n",
    "\n",
    "    B = invZ[0] * LambdaH\n",
    "\n",
    "\n",
    "    # ========= compute Z(xi) prime =============\n",
    "    Q = LambdaL * Z[0]\n",
    "    Z.append(spr.csc_matrix(lng.solve_sylvester(A.toarray(), B.toarray(), Q.toarray())))\n",
    "    invZ.append(-invZ[0].dot(Z[1].dot(invZ[0])))\n",
    "\n",
    "    # ========= compute higher derivatives of Z(xi) =============\n",
    "    sumZ = 1\n",
    "    while sumZ > eps and len(Z) < maxPrimes:\n",
    "        Q = - LambdaH * Z[0].dot(sum(invZ[i].dot(Z[-i]) for i in range(1, len(Z)))).dot(invZ[0])\n",
    "        Z.append(spr.csc_matrix(lng.solve_sylvester(A.toarray(), B.toarray(), Q.toarray())))\n",
    "        invZ.append(-A1_sp.dot(Z[-1]) / LambdaH)\n",
    "        sumZ = np.sum(Z[-1])\n",
    "        # print sumZ\n",
    "\n",
    "    return Z, invZ, idx_map"
   ]
  },
  {
   "cell_type": "markdown",
   "metadata": {},
   "source": [
    "## Equilibrium equations for $P_{|\\bar{w}^h|,|\\bar{w}^l|}(\\bar{s}^h,\\bar{s}^l,\\bar{r}^l)$, when $|\\bar{w}_h|=0$"
   ]
  },
  {
   "cell_type": "markdown",
   "metadata": {},
   "source": [
    "For $|\\bar{w}_h|=0, |\\bar{s}_h|=k$\n",
    "$$\\left (\\sum_{i=1}^{N^h} \\lambda^h_i + \\sum_{i=1}^{N^l} \\lambda^l_i +  \\sum_{i=1}^{N^h} s^h_i\\mu^h_i \\right) P_{0,|\\bar{w}^l|}(\\bar{s}^h,0,\\bar{r}^l)\n",
    "= \\sum_{i=1}^{N^h} \\lambda^h_i P_{0,|\\bar{w}^l|}(\\bar{s}^h-e^h_i,e^l_i,\\bar{r}^l-e^l_i) \n",
    "+ \\left (\\sum_{i=1}^{N^l} \\lambda^l_i \\right ) P_{0,|\\bar{w}^l|}(\\bar{s}^h, 0,\\bar{r}^l) \n",
    "\\\\+ \\sum_{i=1}^{N^h} \\sum_{j=1}^{N^h}  \\frac{\\lambda^l_i}{\\sum_{i=1}^{N^l} \\lambda^l_i}(s^h_j + 1- e_{ij})\\mu^h_j \n",
    "P_{1,|\\bar{w}^l|}(\\bar{s}^h - e^h_i + e^h_j, 0,\\bar{r}^l) \n",
    "$$\n",
    "\n",
    "For $|\\bar{w}_h|=0, |\\bar{s}_h|<k$\n",
    "$$\\left (\\sum_{i=1}^{N^h} \\lambda^h_i + \\sum_{i=1}^{N^l} \\lambda^l_i +  \\sum_{i=1}^{N^h} s^h_i\\mu^h_i  +  \\sum_{i=1}^{N^l} s^l_i\\mu^l_i \\right) P_{0,|\\bar{w}^l|}(\\bar{s}^h,\\bar{s}^l,\\bar{r}^l)\n",
    "= \\left(\\sum_{i=1}^{N^l} \\lambda^l_i\\right ) P_{0,|\\bar{w}^l|-1}(\\bar{s}^h,\\bar{s}^l,\\bar{r}^l) \n",
    "\\\\+ \\sum_{i=1}^{N^h} \\lambda^h_i \\sum_{j=1}^{N^l} \\frac{s^l_i+1}{|\\bar{s}_l|+1} P_{0,|\\bar{w}^l|}(\\bar{s}^h-e_i,\\bar{s}^l + e_j,\\bar{r}^l - e_j)\n",
    "\\\\+ I(r^l=0)\\sum_{i=1}^{N^h} \\sum_{j=1}^{N^l} \\frac{\\lambda^l_i}{\\sum_{i=1}^{N^l} \\lambda^l_i} (s^h_j + 1)\\mu^h_j P_{0,|\\bar{w}^l|+1}(\\bar{s}^h+e_i,\\bar{s}^l-e^l_j,0)\n",
    "\\\\+ I(r^l=0)\\sum_{i=1}^{N^l} \\sum_{j=1}^{N^l} \\frac{\\lambda^l_i}{\\sum_{i=1}^{N^l} \\lambda^l_i} (s^l_j + 1 - e_{ij})\\mu^l_j P_{0,|\\bar{w}^l|+1}(\\bar{s}^h,\\bar{s}^l-e^l_i+e^l_j,0)\n",
    "\\\\+ \\sum_{i=1}^{N^h} \\sum_{j=1}^{N^l} \\frac{r^l_i+1}{|\\bar{r}_l|+1} (s^h_j + 1)\\mu^h_j P_{0,|\\bar{w}^l|}(\\bar{s}^h+e_i,\\bar{s}^l-e^l_j,\\bar{r}^l+e^l_j)\n",
    "\\\\+ \\sum_{i=1}^{N^l} \\sum_{j=1}^{N^l} \\frac{r^l_i+1}{|\\bar{r}_l|+1} (s^l_j + 1 - e_{ij})\\mu^l_j P_{0,|\\bar{w}^l|}(\\bar{s}^h,\\bar{s}^l-e^l_i+e^l_j,\\bar{r}^l+e^l_j)$$"
   ]
  },
  {
   "cell_type": "markdown",
   "metadata": {},
   "source": [
    "## Solution of the equilibrium equations for $P_{|\\bar{w}^h|,|\\bar{w}^l|}(\\bar{s}^h,\\bar{s}^l,\\bar{r}^l)$, when $|\\bar{w}_h|=0$\n",
    "\n",
    "... add the solution expressions\n",
    "\n",
    "The solution $\\mathbf{P}_{0,q^l}$ (with $q^l = |\\bar{w}^l|$) will be in the form:\n",
    "$$\\mathbf{P}_{0,q^l} = \\frac{1}{q^l!} \\left (\\frac{d}{d\\xi}\\right)^{q^l}  v (\\xi) \\Bigg |_{\\xi=0}$$\n",
    "and the derivatives of $v (\\xi)$ in point $\\xi=1$ will be used in the calculations of the main KPIs\n",
    "\n",
    "The equibrium equations for $|\\bar{w}_h|=0$ and $|\\bar{w}_l|>0$ can be rewritten as:\n",
    "$$\\frac{1}{q^l!} \\left (\\frac{d}{d\\xi}\\right)^{q^l} \\left [ \\xi \\mathbb{D} v(\\xi) - \\xi^2 \\mathbb{F} v(\\xi) - \\mathbb{G} v(\\xi) - \\xi \\mathbb{B} \\mathbf{Z}(\\xi) v_k(\\xi) \\right ]_{\\xi=0} = 0, \\quad q^l >2$$\n",
    "where $v_k(\\xi)$ is the part of vector $v(\\xi)$ correspondinding to states with $k$ high priority items in the system ($|\\bar{s}_h|=k$).\n",
    "\n",
    "The matrix terms in these differential equations are:\n",
    "\n"
   ]
  },
  {
   "cell_type": "markdown",
   "metadata": {},
   "source": [
    "That is the state probabilities can and the main KPIs can be found from the vector $v(\\xi)$ that solves:\n",
    "$$ \\left [ \\xi \\mathbb{D} - \\xi^2 \\mathbb{F} - \\mathbb{G} - \\xi \\mathbb{B} \\mathbf{Z}(\\xi) \\right ] v(\\xi) = \\mathbf{C}_1 \\xi + \\mathbf{C}_2$$\n",
    "equilibrium equations are "
   ]
  },
  {
   "cell_type": "markdown",
   "metadata": {},
   "source": [
    "\n",
    "P = ( ) v (ξ ) where t = t − k . The substitution of this solution into\n",
    " 1d t+k t! dξ\n",
    "ξ=0\n",
    "ˆ\n",
    "  the equation (6.12) gives:\n",
    "1dt 1 dt−1 1 dt+1\n",
    "Dt!dξ v(ξ)ξ=0 =F(t−1)!dξ v(ξ)ξ=0 +G(t+1)!dξ v(ξ)ξ=0 \n",
    "      1 d t\n",
    "+B  Z−1(ξ)C(ξ) , t>k\n",
    "t!dξ  ξ=0\n",
    "Here we can apply the following equations: (d ) xf (x) =t (d ) f (x) and\n",
    "  dx x=0  dx x=0\n",
    "in Lemma 6.1. These two equations allow us to remove the derivatives from equation (6.12) and to obtain a new expression for the function v(ξ) for any t > 0:\n",
    "t()t−1 \n",
    "dx x=0  dx x=0\n",
    "  t t−2 \n",
    "(d )(x2f(x)) =t(t−1)(d ) f(x) .Theseequationscaneasilybeprovedasshown\n",
    "  1 dt+1\n",
    "  ξDv(ξ)−ξ2Fv(ξ)−Gv(ξ)−ξBZ−1(ξ)C(ξ) =0, t>k (6.16)\n",
    "(t+1)!dξ  ξ=0\n",
    "  The function C(ξ) can be expressed as a part of the vector-function v(ξ), which corresponds to the states with k high priority items in the system vk(ξ), i.e. C(ξ) = vk(ξ).\n",
    "The right part of equation (6.16) should be a function which becomes zero for any t > 0, i.e. a linear function. Hence, we obtain another expression for the vector-function v(ξ), that does not contain derivatives, but that contains unknown vectors C1 and C2:\n",
    "ξDv(ξ)−ξ2Fv(ξ)−Gv(ξ)−ξBZ−1 (ξ)v (ξ)=Cξ +C (6.17) k12"
   ]
  },
  {
   "cell_type": "markdown",
   "metadata": {},
   "source": [
    "## Compute H and H-prime arrrays\n",
    "\n",
    "... explain"
   ]
  },
  {
   "cell_type": "code",
   "execution_count": 7,
   "metadata": {
    "collapsed": false
   },
   "outputs": [
    {
     "name": "stdout",
     "output_type": "stream",
     "text": [
      "[ 3.  5.] [ 3.  6.]\n",
      "[  6.38889  12.77778] [  6.38889  12.77778]\n",
      "[ 0.16141  0.26902] [ 0.16141  0.32283]\n",
      "[ 0.34375  0.6875 ] [ 0.34375  0.6875 ]\n",
      "1.8 0.9\n",
      "0.430434782609 0.469565217391\n"
     ]
    }
   ],
   "source": [
    "# input data \n",
    "mClassesH = 2\n",
    "mClassesL = 2\n",
    "nServers = 2\n",
    "lamdaH = np.linspace(3.0, 5.0, mClassesH)\n",
    "muH = np.linspace(1, 2, mClassesH)\n",
    "lamdaL = np.linspace(3.0, 6.0, mClassesL)\n",
    "muL = np.linspace(1, 2, mClassesL)\n",
    "\n",
    "rho = 0.9\n",
    "mu_correction = (sum(lamdaH / muH) + sum(lamdaL / muL)) / nServers / rho\n",
    "muH *= mu_correction\n",
    "muL *= mu_correction\n",
    "\n",
    "print(lamdaH, lamdaL)\n",
    "print(muH, muL)\n",
    "    \n",
    "MuH = sum(lamdaH) / np.sum(lamdaH / muH)\n",
    "\n",
    "# print sum(lamdaH) + sum(lamdaL) + 2*muH[0] , MuH, (sum(lamdaH) + sum(lamdaL) + 2*muH[0])/MuH\n",
    "\n",
    "lamdaH /= nServers*MuH\n",
    "lamdaL /= nServers*MuH\n",
    "muL /= nServers*MuH\n",
    "muH /= nServers*MuH\n",
    "\n",
    "print(lamdaH, lamdaL)\n",
    "print(muH, muL)\n",
    "print((sum(lamdaH/muH) + sum(lamdaL/muL)), (sum(lamdaH/muH) + sum(lamdaL/muL))/nServers)\n",
    "assert((sum(lamdaH/muH) + sum(lamdaL/muL))<nServers) # ensure stability\n",
    "print(sum(lamdaH/muH)/nServers, sum(lamdaL/muL)/nServers)"
   ]
  },
  {
   "cell_type": "code",
   "execution_count": 8,
   "metadata": {
    "collapsed": true
   },
   "outputs": [],
   "source": [
    "# auxiliary arrays\n",
    "LambdaH = sum(lamdaH)\n",
    "LambdaL = sum(lamdaL)\n",
    "lambdaAll = np.append(lamdaH, lamdaL)\n",
    "LambdaTot = sum(lamdaH) + sum(lamdaL)\n",
    "\n",
    "alphaH = lamdaH/sum(lamdaH)\n",
    "alphaL = lamdaL/sum(lamdaL)\n",
    "\n",
    "muAll     = np.append(muH, muL)\n",
    "mClassesH = len(lamdaH)\n",
    "mClassesL = len(lamdaL)\n",
    "mClasses = mClassesH + mClassesL"
   ]
  },
  {
   "cell_type": "code",
   "execution_count": 9,
   "metadata": {
    "collapsed": false
   },
   "outputs": [],
   "source": [
    "# map of states with 0 items of high priority in queue\n",
    "idx_map = dict(((tuple(vec[0][:mClassesH]), tuple(vec[0][mClassesH:]), tuple(vec[1])),i) for i, vec in \\\n",
    "               enumerate([vect for i in range(nServers,nServers+1) \n",
    "                          for vect in itertools.product(\n",
    "                                           (generateVectorsFixedSum(mClassesH+mClassesL, i)), \n",
    "                                           (generateVectorsAllSums(mClassesL, i))) \n",
    "                              if sum(vect[0][mClassesH:]) +sum(vect[1]) <=i\n",
    "                         ]))\n",
    "q_max = len(idx_map) # length of the v(xi) vector"
   ]
  },
  {
   "cell_type": "code",
   "execution_count": 10,
   "metadata": {
    "collapsed": true
   },
   "outputs": [],
   "source": [
    "Dk = spr.lil_matrix((q_max,q_max), dtype=float)\n",
    "for idx, i in idx_map.items():\n",
    "    Dk[i,i] = (sum(lambdaAll) + sum(idx[0]*muH) + sum(idx[1]*muL))"
   ]
  },
  {
   "cell_type": "code",
   "execution_count": 11,
   "metadata": {
    "collapsed": false
   },
   "outputs": [],
   "source": [
    "GB = spr.lil_matrix((q_max,q_max), dtype=float)\n",
    "for idx, i1 in idx_map.items():\n",
    "    r = sum(idx[2]) # postponed items\n",
    "    for j1, j2 in itertools.product(range(mClassesL),range(mClassesH+mClassesL)):\n",
    "        idxS = list(idx[0]) + list(idx[1]); idxP = list(idx[2]); \n",
    "        if idxS[mClassesH+j1]>0:\n",
    "            idxS[mClassesH+j1] -= 1; idxP[j1]  += 1; idxS[j2] += 1\n",
    "            i2 = getIndexDict((tuple(idxS[:mClassesH]),tuple(idxS[mClassesH:]),tuple(idxP)),idx_map)\n",
    "            if i2>0: GB[i1,i2] += idxP[j1]/(r+1)*idxS[j2]*muAll[j2]\n",
    "            if r == 0:\n",
    "                idxP[j1]  -= 1\n",
    "                i2 = idx_map[(tuple(idxS[:mClassesH]),tuple(idxS[mClassesH:]),tuple(idxP))]\n",
    "                GB[i1,i2] += alphaL[j1]*idxS[j2]*muAll[j2]"
   ]
  },
  {
   "cell_type": "code",
   "execution_count": 12,
   "metadata": {
    "collapsed": true
   },
   "outputs": [],
   "source": [
    "FE = spr.eye(q_max, dtype=float).tolil()*LambdaL\n",
    "s_vect = np.zeros(mClassesH + 2*mClassesL)\n",
    "for idx, i1 in idx_map.items():\n",
    "    r = sum(idx[1])\n",
    "    for j1, j2 in itertools.product(range(mClassesL), range(mClassesH)):\n",
    "        idxH = list(idx[0]); idxL = list(idx[1]); idxP = list(idx[2]); \n",
    "        if (idxH[j2]>0) and (idxP[j1]>0):\n",
    "            idxH[j2] -= 1; idxL[j1] += 1; idxP[j1] -= 1\n",
    "            i2 = idx_map[(tuple(idxH),tuple(idxL),tuple(idxP))]\n",
    "            FE[i1, i2] += lamdaH[j2]*idxL[j1]/(r+1)"
   ]
  },
  {
   "cell_type": "code",
   "execution_count": 13,
   "metadata": {
    "collapsed": false
   },
   "outputs": [],
   "source": [
    "maxPrimes=20\n",
    "Z0, negZ0, idx_mapH = computeZ_primes(lamdaH, muH, lamdaL, muL, nServers, 0, eps = 0.0000000000001, maxPrimes=maxPrimes)\n",
    "Z1, negZ1, _ = computeZ_primes(lamdaH, muH, lamdaL, muL, nServers, 1, eps = 0.0000000000001, maxPrimes=maxPrimes)"
   ]
  },
  {
   "cell_type": "code",
   "execution_count": 14,
   "metadata": {
    "collapsed": false
   },
   "outputs": [],
   "source": [
    "q_maxH = len(idx_mapH)\n",
    "A1 = spr.lil_matrix((q_maxH,q_maxH), dtype=float)\n",
    "for idx, i1 in idx_mapH.items():\n",
    "    for j1,j2 in itertools.product(range(mClassesH), range(mClassesH)):\n",
    "        idxH = list(idx[0])\n",
    "        if idxH[j1]>0:\n",
    "            idxH[j2] += 1; idxH[j1]  -= 1\n",
    "            i2 = idx_mapH[(tuple(idxH),tuple(idx[1]),tuple(idx[2]))]\n",
    "            A1[i1,i2] += idxH[j2]*muH[j2]*alphaH[j1]"
   ]
  },
  {
   "cell_type": "code",
   "execution_count": 15,
   "metadata": {
    "collapsed": true
   },
   "outputs": [],
   "source": [
    "Ader0 = []\n",
    "Ader1 = []\n",
    "Bder0 = []\n",
    "Bder1 = []\n",
    "\n",
    "for m in range(maxPrimes):\n",
    "    Ader0.append(A1.dot(Z0[m]))\n",
    "    Bder0.append(spr.lil_matrix((q_max,q_max), dtype=float))\n",
    "\n",
    "    Ader1.append(A1.dot(Z1[m]))\n",
    "    Bder1.append(spr.lil_matrix((q_max,q_max), dtype=float))"
   ]
  },
  {
   "cell_type": "code",
   "execution_count": 16,
   "metadata": {
    "collapsed": true
   },
   "outputs": [],
   "source": [
    "for idx1, i1 in idx_map.items():\n",
    "    for idx2, i2 in idx_map.items():\n",
    "        j1 = getIndexDict(((idx1[0]),tuple([0]*mClassesL),(idx1[2])), idx_mapH)\n",
    "        j2 = getIndexDict(((idx2[0]),tuple([0]*mClassesL),(idx2[2])), idx_mapH) \n",
    "        if j1 >= 0 and j2>=0:\n",
    "            for m in range(maxPrimes):\n",
    "                Bder0[m][i1,i2] += Ader0[m][j1,j2]\n",
    "                Bder1[m][i1,i2] += Ader1[m][j1,j2]"
   ]
  },
  {
   "cell_type": "code",
   "execution_count": 17,
   "metadata": {
    "collapsed": true
   },
   "outputs": [],
   "source": [
    "H0 = []\n",
    "H1 = []\n",
    "\n",
    "for m in range(min(maxPrimes, len(Z0))):\n",
    "    H0.append((-(m > 0) * Bder0[m - 1].copy()).tocsc())\n",
    "    H1.append((-Bder1[m].copy() - (m > 0) * Bder1[m - 1].copy()).tocsc())\n",
    "\n",
    "H0[0] += -GB\n",
    "H0[1] += Dk\n",
    "H0[2] += -FE\n",
    "\n",
    "H1[0] += -GB + Dk - FE\n",
    "H1[1] += Dk - 2 * FE\n",
    "H1[2] += -FE"
   ]
  },
  {
   "cell_type": "code",
   "execution_count": 18,
   "metadata": {
    "collapsed": false
   },
   "outputs": [],
   "source": [
    "maxQidx = 50\n",
    "Qa = []\n",
    "\n",
    "for m in range(min(maxPrimes, len(H0))):\n",
    "    Qa.append(H0[m])\n",
    "\n",
    "for m in range(maxQidx, 1, -1):\n",
    "    invQa = spr_inv(Qa[1])\n",
    "    for i in range(2, min(m, min(maxPrimes, len(H0)))):\n",
    "        Qa[i] = -invQa.dot(Qa[i])  # //for i from 2 to m do Qa[i]:=evalm(-inverse(Qa[1])&*Qa[i]); od:\n",
    "\n",
    "    for i in range(1, min(m, min(maxPrimes, len(H0))) - 1):\n",
    "        Qa[i] = H0[0].dot(Qa[i + 1]) + H0[i]  # Qa[i]:=evalm(H0[0] & * Qa[i + 1] + H0[i])  what about H0[i]/i!\n"
   ]
  },
  {
   "cell_type": "code",
   "execution_count": 19,
   "metadata": {
    "collapsed": true
   },
   "outputs": [],
   "source": [
    "# maps of states with 0 items in queue\n",
    "idx_mapN = [dict(((tuple(vec[:mClassesH]), tuple(vec[mClassesH:]), tuple([0] * mClassesL)), i) \\\n",
    "            for i, vec in enumerate(generateVectorsFixedSum(mClassesH + mClassesL, n)))\n",
    "            for n in range(nServers)]\n",
    "\n",
    "idx_mapN.append(idx_map)"
   ]
  },
  {
   "cell_type": "code",
   "execution_count": 20,
   "metadata": {
    "collapsed": false
   },
   "outputs": [],
   "source": [
    "Dn = []\n",
    "F = []\n",
    "G = []\n",
    "\n",
    "F.append(spr.lil_matrix((len(idx_mapN[nServers]), len(idx_mapN[nServers - 1])), dtype=float))\n",
    "\n",
    "for idx, i in idx_mapN[nServers].items():\n",
    "    if sum(idx[2]) == 0:\n",
    "        for j in range(mClassesH + mClassesL):\n",
    "            idxS = list(idx[0]) + list(idx[1])\n",
    "            if idxS[j] > 0:\n",
    "                idxS[j] -= 1\n",
    "                i2 = idx_mapN[nServers - 1][\n",
    "                    (tuple(idxS[:mClassesH]), tuple(idxS[mClassesH:]), tuple([0] * mClassesL))]\n",
    "                F[0][i, i2] += lambdaAll[j]"
   ]
  },
  {
   "cell_type": "code",
   "execution_count": 21,
   "metadata": {
    "collapsed": false
   },
   "outputs": [],
   "source": [
    "for n in range(nServers - 1, 0, -1):\n",
    "    dm = len(idx_mapN[n])\n",
    "    dmMinus = len(idx_mapN[n - 1])\n",
    "    dmPlus = len(idx_mapN[n + 1])\n",
    "\n",
    "    Dn.insert(0, spr.lil_matrix((dm, dm), dtype=float))\n",
    "    F.insert(0, spr.lil_matrix((dm, dmMinus), dtype=float))\n",
    "    G.insert(0, spr.lil_matrix((dm, dmPlus), dtype=float))\n",
    "    for idx, i in idx_mapN[n].items():\n",
    "        Dn[0][i, i] = LambdaTot + sum(idx[0] * muH) + sum(idx[1] * muL)\n",
    "\n",
    "    for idx, i1 in idx_mapN[n].items():\n",
    "        for j in range(mClassesH + mClassesL):\n",
    "            idxS = list(idx[0]) + list(idx[1])\n",
    "            if idxS[j] > 0:\n",
    "                idxS[j] -= 1\n",
    "                i2 = idx_mapN[n - 1][(tuple(idxS[:mClassesH]), tuple(idxS[mClassesH:]), tuple([0] * mClassesL))]\n",
    "                F[0][i1, i2] += lambdaAll[j]\n",
    "\n",
    "    for idx, i1 in idx_mapN[n].items():\n",
    "        for j in range(mClassesH + mClassesL):\n",
    "            idxS = list(idx[0]) + list(idx[1])\n",
    "            idxS[j] += 1\n",
    "            i2 = idx_mapN[n + 1][(tuple(idxS[:mClassesH]), tuple(idxS[mClassesH:]), tuple([0] * mClassesL))]\n",
    "            G[0][i1, i2] += muAll[j] * idxS[j]\n",
    "\n",
    "Dn.insert(0,spr.lil_matrix((1,1), dtype=float))\n",
    "F.insert(0,spr.lil_matrix((1,1), dtype=float))\n",
    "G.insert(0,spr.lil_matrix((1,1), dtype=float))"
   ]
  },
  {
   "cell_type": "code",
   "execution_count": 22,
   "metadata": {
    "collapsed": false
   },
   "outputs": [],
   "source": [
    "Q1 = []\n",
    "Q1.append(\n",
    "    spr.linalg.inv(H0[0].dot(Qa[2]) + H0[1]).dot(F[nServers].tocsc()))  # Q[k]:=evalm(inverse(H0[0]&*Qa[2]+H0[1])&*F[k])\n",
    "\n",
    "for i in range(nServers - 1, 0, -1):\n",
    "    Q1.insert(0, spr.linalg.inv(Dn[i].tocsc() - G[i].tocsc().dot(Q1[0])).dot(F[i].tocsc()))\n",
    "                # Q[i]:=evalm(inverse(Dn1[i]-G[i]&*Q[i+1])&*F[i]);\n",
    "\n",
    "Q1.insert(0, spr.csc_matrix((1, 1), dtype=float))"
   ]
  },
  {
   "cell_type": "code",
   "execution_count": 23,
   "metadata": {
    "collapsed": true
   },
   "outputs": [],
   "source": [
    "P = []\n",
    "P.append(np.eye(1, dtype=float))  # P0 = 1\n",
    "\n",
    "for n in range(1, nServers + 1):\n",
    "    P.append(Q1[n].dot(P[-1]))  # P[n]:=evalm(Q[n] & * P[n - 1]);"
   ]
  },
  {
   "cell_type": "code",
   "execution_count": 24,
   "metadata": {
    "collapsed": true
   },
   "outputs": [],
   "source": [
    "# compute the sum of the probabilities\n",
    "Pr = spr.lil_matrix(H1[1].shape)\n",
    "\n",
    "Pr[0] = 1\n",
    "Pr = Pr.tocsc()\n",
    "\n",
    "v1 = []\n",
    "\n",
    "theta = spr.linalg.inv(H1[0] + Pr.dot(H1[1]))\n",
    "v1.append(theta.dot((spr.eye(H1[1].shape[0]) + Pr).dot(F[nServers].tocsc()).dot(P[nServers - 1]) - GB.tocsc().dot(P[nServers])))\n",
    "\n",
    "theta = spr.linalg.inv(H1[0] + 2 * Pr.dot(H1[1]))\n",
    "v1.append(theta.dot(-(H1[1] + 2 * Pr.dot(H1[2])).dot(v1[0]) + F[nServers].tocsc().dot(P[nServers - 1])))\n",
    "\n",
    "theta = spr.linalg.inv(H1[0] + 3 * Pr.dot(H1[1]))\n",
    "v1.append(\n",
    "    theta.dot(-(2 * H1[1] + 3 * 2 * Pr.dot(H1[2])).dot(v1[1]) - (2 * H1[2] + 3 * 2 * Pr.dot(H1[3])).dot(v1[0])))\n",
    "\n",
    "P[0][0, 0] = sum(np.sum(P[n]) for n in range(nServers))\n",
    "\n",
    "P[0][0, 0] += np.sum(v1[0])\n",
    "\n",
    "theta = spr.lil_matrix((len(idx_mapH), 1))\n",
    "\n",
    "for idx, i in idx_mapH.items():\n",
    "    theta[i, 0] += v1[0][idx_map[idx], 0]\n",
    "\n",
    "theta = spr.linalg.inv(spr.eye(Z1[0].shape[0]).tocsc() - Z1[0]).dot(Z1[0]).dot(theta.tocsc())\n",
    "\n",
    "P[0][0, 0] += np.sum(theta)"
   ]
  },
  {
   "cell_type": "code",
   "execution_count": 25,
   "metadata": {
    "collapsed": true
   },
   "outputs": [],
   "source": [
    "# normalize the state probabilities\n",
    "P[0][0, 0] = 1 / P[0][0, 0]\n",
    "for n in range(1, nServers):\n",
    "    P[n] *= P[0][0, 0]"
   ]
  },
  {
   "cell_type": "code",
   "execution_count": 26,
   "metadata": {
    "collapsed": true
   },
   "outputs": [],
   "source": [
    "r = np.zeros((len(idx_map), 1), dtype=int)\n",
    "for idx, i in idx_map.items(): r[i] = sum(idx[2])\n",
    "\n",
    "v1[2] = (v1[2] - 2 * r * v1[1] + r * (r + 1) * v1[0]) * P[0][0, 0]\n",
    "v1[1] = (v1[1] - r * v1[0]) * P[0][0, 0]\n",
    "v1[0] *= P[0][0, 0]"
   ]
  },
  {
   "cell_type": "code",
   "execution_count": 27,
   "metadata": {
    "collapsed": true
   },
   "outputs": [],
   "source": [
    "M = mClassesH + mClassesL\n",
    "EN = np.zeros(M); VN = np.zeros(M)\n",
    "EQ = np.zeros(M); VQ = np.zeros(M)\n",
    "EP = np.zeros(M)\n",
    "ES = np.zeros(M); LPS = np.zeros(M)\n",
    "\n",
    "L1 = []\n",
    "PS = []\n",
    "L1plusPS = []\n",
    "\n",
    "for n in range(nServers+1):\n",
    "    L1.append(np.zeros((mClassesH + mClassesL, len(idx_mapN[n])), dtype = int))\n",
    "    PS.append(np.zeros((mClassesH + mClassesL, len(idx_mapN[n])), dtype = int))\n",
    "    for idx,i in idx_mapN[n].items():\n",
    "        L1[-1][:,i] = np.array(idx[0] + idx[1])\n",
    "        PS[-1][:,i] = np.array([0]*mClassesH + list(idx[2]))\n",
    "    L1plusPS.append(L1[-1] + PS[-1])"
   ]
  },
  {
   "cell_type": "code",
   "execution_count": 28,
   "metadata": {
    "collapsed": true
   },
   "outputs": [],
   "source": [
    "# --------------------------- n<k ------------------------------\n",
    "for n in range(nServers):\n",
    "    EN += L1[n].dot(P[n]).reshape(M)\n",
    "    VN += (L1[n] ** 2).dot(P[n]).reshape(M)\n",
    "    ES += L1[n].dot(P[n]).reshape(M)"
   ]
  },
  {
   "cell_type": "code",
   "execution_count": 29,
   "metadata": {
    "collapsed": true
   },
   "outputs": [],
   "source": [
    "# --------------------------- n<k, m>=k ------------------------------\n",
    "\n",
    "EN += L1plusPS[nServers].dot(v1[0])[:,0]\n",
    "EN[mClassesH:] += alphaL*np.sum(v1[1])\n",
    "\n",
    "VN += (L1plusPS[nServers]**2).dot(v1[0])[:,0]\n",
    "VN[mClassesH:] += (alphaL**2)*np.sum(v1[2])\\\n",
    "                  + alphaL*np.sum(v1[1])\\\n",
    "                  + 2*alphaL*L1plusPS[nServers][mClassesH:].dot(v1[1])[:,0]\n",
    "\n",
    "VQ[mClassesH:] += (alphaL**2)*np.sum(v1[2])\\\n",
    "              + alphaL*np.sum(v1[1])\n",
    "\n",
    "\n",
    "ES += L1[nServers].dot(v1[0])[:,0]\n",
    "EQ[mClassesH:] += alphaL*np.sum(v1[1])\n",
    "\n",
    "EP[mClassesH:] += PS[nServers][mClassesH:].dot(v1[0])[:,0]\n",
    "\n",
    "r = np.zeros(len(idx_mapN[nServers]), dtype = int)\n",
    "for idx,i in idx_mapN[nServers].items(): r[i] = sum(idx[1])\n",
    "\n",
    "with np.errstate(divide='ignore', invalid='ignore'): fr = np.nan_to_num(L1[nServers][mClassesH:]/r)\n",
    "LPS[mClassesH:] += fr.dot(v1[0])[:,0]*sum(lamdaH) # what is it for?\n",
    "\n",
    "r = np.zeros(len(idx_mapN[nServers]), dtype = int)\n",
    "for idx,i in idx_mapN[nServers].items(): r[i] = sum(idx[0])\n",
    "LPS[:mClassesH] += (r==nServers).dot(v1[0])*sum(lamdaH) # what is it for?"
   ]
  },
  {
   "cell_type": "code",
   "execution_count": 30,
   "metadata": {
    "collapsed": false
   },
   "outputs": [],
   "source": [
    "# --------------------------- n>k ------------------------------\n",
    "\n",
    "theta1 = spr.linalg.inv(negZ1[0] - spr.eye(negZ1[0].shape[0]).tocsc())\n",
    "theta2 = theta1.dot(negZ1[1]).dot(theta1)\n",
    "theta4 = theta2.dot(negZ1[1]).dot(theta1)\n",
    "theta3 = theta1.dot(negZ1[2]).dot(theta1)\n",
    "\n",
    "\n",
    "filter_mat = spr.lil_matrix((len(idx_mapH),len(idx_mapN[nServers])))\n",
    "for idx, i in idx_mapN[nServers].items():\n",
    "    for idxH, j in idx_mapH.items():\n",
    "        if(idx==idxH): filter_mat[j,i] = 1\n",
    "filter_mat = filter_mat.tocsc()\n",
    "\n",
    "\n",
    "v1H = []\n",
    "v1H.append(filter_mat.dot(v1[0]))\n",
    "v1H.append(filter_mat.dot(v1[1]))\n",
    "v1H.append(filter_mat.dot(v1[2]))"
   ]
  },
  {
   "cell_type": "code",
   "execution_count": 31,
   "metadata": {
    "collapsed": true
   },
   "outputs": [],
   "source": [
    "PSH = spr.csc_matrix(filter_mat.dot(PS[nServers].T).T[mClassesH:])\n",
    "\n",
    "\n",
    "EN[mClassesH:] += -alphaL*np.sum(theta2.dot(v1H[0]) -  theta1.dot(v1H[1])) + PSH.dot(theta1).dot(v1H[0])[:,0]\n",
    "\n",
    "EQ[mClassesH:] += -alphaL*np.sum(theta2.dot(v1H[0]) -  theta1.dot(v1H[1]))\n",
    "\n",
    "EP[mClassesH:] += PSH.dot(theta1).dot(v1H[0])[:,0]\n",
    "\n",
    "VN[mClassesH:] += alphaL**2 * np.sum((2*theta4 - theta3).dot(v1H[0]) - 2*theta2.dot(v1H[1]) + theta1.dot(v1H[2])) \\\n",
    "                  - alphaL*np.sum(theta2.dot(v1H[0]) - theta1.dot(v1H[1])) \\\n",
    "                  - 2*alphaL*PSH.dot(theta2.dot(v1H[0]) - theta1.dot(v1H[1]))[:,0] \\\n",
    "                  + PSH.multiply(PSH).dot(theta1).dot(v1H[0])[:,0]\n",
    "\n",
    "VQ[mClassesH:] += alphaL ** 2 * np.sum((2 * theta4 - theta3).dot(v1H[0]) - 2 * theta2.dot(v1H[1]) + theta1.dot(v1H[2])) \\\n",
    "                  - alphaL * np.sum(theta2.dot(v1H[0]) - theta1.dot(v1H[1]))\n",
    "\n",
    "IminusZ = spr.linalg.inv(spr.eye(Z1[0].shape[0]).tocsc() - Z1[0])\n",
    "\n",
    "theta1 = IminusZ.dot(Z1[0])\n",
    "theta2 = IminusZ.dot(theta1)\n",
    "theta3 = IminusZ.dot(theta2).dot(Z1[0])\n",
    "\n",
    "LH = spr.csc_matrix(filter_mat.dot(L1[nServers].T).T[:mClassesH])\n",
    "\n",
    "\n",
    "EN[:mClassesH] += alphaH * np.sum(theta2.dot(v1H[0])) + LH.dot(theta1).dot(v1H[0])[:, 0]\n",
    "EQ[:mClassesH] += alphaH * np.sum(theta2.dot(v1H[0])) #+ LH.dot(theta1).dot(v1H[0])[:, 0]\n",
    "VN[:mClassesH] += 2 * (alphaH ** 2) * np.sum(theta3.dot(v1H[0])) \\\n",
    "                  + alphaH * np.sum(theta2.dot(v1H[0])) \\\n",
    "                  + 2 * alphaH * (LH.dot(theta2).dot(v1H[0])[:, 0]) \\\n",
    "                  + LH.multiply(LH).dot(theta1).dot(v1H[0])[:, 0]\n",
    "VQ[:mClassesH] += 2 * (alphaH ** 2) * np.sum(theta3.dot(v1H[0])) \\\n",
    "                  + alphaH * np.sum(theta2.dot(v1H[0]))\n",
    "ES[:mClassesH] += LH.dot(theta1).dot(v1H[0])[:, 0]\n",
    "\n",
    "VN -= EN ** 2\n",
    "VQ -= EQ ** 2"
   ]
  },
  {
   "cell_type": "code",
   "execution_count": 32,
   "metadata": {
    "collapsed": false
   },
   "outputs": [
    {
     "name": "stdout",
     "output_type": "stream",
     "text": [
      "[ 0.55041  0.52605  3.36887  6.02701]\n",
      "[  0.659     0.7052   14.99471  51.07415]\n"
     ]
    }
   ],
   "source": [
    "print(EN)\n",
    "print(VN)"
   ]
  },
  {
   "cell_type": "markdown",
   "metadata": {},
   "source": [
    "EN:  0.55041036251, 0.526046256356, 3.37079671614, 6.02482280533\n",
    "\n",
    "VN:  0.659004149516, 0.705201175669, 14.9856388664, 51.1061900161"
   ]
  },
  {
   "cell_type": "code",
   "execution_count": null,
   "metadata": {
    "collapsed": true
   },
   "outputs": [],
   "source": []
  }
 ],
 "metadata": {
  "anaconda-cloud": {},
  "kernelspec": {
   "display_name": "Python [conda env:Python3]",
   "language": "python",
   "name": "conda-env-Python3-py"
  },
  "language_info": {
   "codemirror_mode": {
    "name": "ipython",
    "version": 3
   },
   "file_extension": ".py",
   "mimetype": "text/x-python",
   "name": "python",
   "nbconvert_exporter": "python",
   "pygments_lexer": "ipython3",
   "version": "3.5.2"
  }
 },
 "nbformat": 4,
 "nbformat_minor": 1
}
